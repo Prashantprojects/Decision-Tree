{
 "cells": [
  {
   "cell_type": "markdown",
   "metadata": {},
   "source": [
    "# Decision Trees Classification\n",
    "\n",
    "**Decision Trees**\n",
    "- Highly interpretable, even more than KNN and Regression models\n",
    "- Sequences of diferent quesitons\n",
    "- Used for **Classification** and **Regression** problem statements\n",
    "\n",
    "Decision Tree Definitions\n",
    "- Decision Trees are Machine Learning algorithms that progressively divide data sets into smaller data groups based on descriptive feature, until they reach sets that are small enough to be described by some label\n",
    "- Decision Trees apply a top-down approach to data, trying to group and label observations that are similar\n",
    "- When the target variable consits of real numbers we use **Regression Trees**\n",
    "- When the targes variable is categorical we use **Classification Trees**\n",
    "- Terminology\n",
    "    - Root node: Beginning of a tree\n",
    "    - Spliiting: Splitting the tree\n",
    "    - Branch: the branch that goes to the Decision node\n",
    "    - Leaf node (Terminal node)\n",
    "    - Sub-Tree\n",
    "    - Depth-level (longest path from the Root node to the Leaf node)\n",
    "    - Prunning (removing sub notes from a tree)\n",
    "    \n",
    " **We can check the impurity of our Decision Tree with:**\n",
    "- Regression Trees\n",
    "    - MSE (Mean Squared Error)\n",
    "- Classification Trees\n",
    "    - Error Rate: probability of making a mistake\n",
    "       - (perferably not used in practice as it is sensitive to overfitting the data)\n",
    "    - Entropy: Measures the impurity of randowmness (uncertainty) in the data points\n",
    "    - Gini Index: Measures how often a randomly chosen element would be incorrectly labeled\n",
    "    \n",
    "    \n",
    "    \n",
    " Different decision tree algorithms utilize different impurity metrics\n",
    " \n",
    " **How does the algorithm select X(feature) and s (split)?**\n",
    " - Using Recursive Binary Splitting: This is a numerical procedure where all the values are linked up and different split points are tried and tested using a cost function. The split wiht the lowest cost is selected\n",
    " - Split that leads to the largest possible reduction in RSS (Residual Sum of Squares)\n",
    " - Calculatin with different lines where the MSE is the smallest\n",
    " - The algortihm repeates the process, looking for the best feature and best split in order to split the data further to minimize the RSS within each of the resulting regions\n",
    " - The process continues until a stopping criterion is reached; for instance, continues until no regeion contains more than a fixed number of observation\n",
    " \n",
    "**Classification Trees**\n",
    "- Classification trees are very ssimilar to regression trees, except that it is being used to predict a qualitative response rather than a quantitative one\n",
    "- The prediction of the algorithm at each terminal node will be the category with the majority of datapoints i.e., the most commonly occuring class\n",
    "- Just as in the regression, the recursive binary splitting is used to grow a classification tree. However, instead of RSS we will be using one of the following impurity criteria:\n",
    "    - Classification error rate: Not sufficiently sensitive to node purity (changes in the node probabilities) and in practice either Gini or Cross Entropy is prefered \n",
    "    - Gini index: What features to start with and where to do the split\n",
    "    - Cross entropy\n",
    "    \n",
    "**Pruning a tree*\n",
    "- Decision Tree may produce good predcitions on the training set, but is likely to overfit the data leading to poor test performance (this is the result when no hyperparameter tuning is done as the Decision tree will make every possible split for every variable in the train set. Then applying this model on the test set will result in high Bias.\n",
    "- Smaller tree with fewer splits may lead to lower variance and better interpretation at the cost of a litle bit of bias (This strategy may result in smaller trees, but is too short-sighted)\n",
    "    - A seemingly worhtles split early on in the tree might be followed by a very goot spliy, a split that leads to a large reduction in RSS/impurity index later on\n",
    "- Making all the decisions in the trees and then pruning back to the good trees\n",
    "- A better strategy is to grow a very large tree, and then prune it back in order to obtain a subtree\n",
    "- Cost complexity pruning is used to do this (penalizing by restricting adding more complexity to the model)\n",
    "\n",
    "**Cost complexity pruning also called as weakest link pruning**\n",
    "- Consider a sequence of trees indexed by a nonnegative tuning meter alpha(lambda)\n",
    "- For each value of alpha corresponds a subtree such that the following objective functions is minimized\n",
    "- Can find best alpha with cross validation (CV)\n",
    "- Alpha control the bias variance trade off and is determined by cross validation (CV)\n",
    "\n",
    "**Building a Regression Tree**\n",
    "1. Use recursive binary splitting to grow a large tree (this is a numerical procedure where all the values are lined up and different split points are tried and tested using a cost function. The split with the lowest cost is selected)\n",
    "2. Apply cost complexity to pruning to the large tree in order to obtain a sequence of best subtrees, as a function of alpha (lambda)\n",
    "3. Use K-fold cross-validation (CV) to choose the best alpha (lambda). That is divide the training observations into K fold. For each k=1,..K: \\\n",
    "    a. Repeat steps 1 and 2 on all but the k fold of the training data\\\n",
    "    b. Evaluate the mean squared (MSE) prediction error on the data in the left out k fold, as a function of alpha. Average the results for each value of alpha, and pick alpha minimize the average error.\\\n",
    "4. Return the subtree from step 2 that corresponds to the chosen value of alpha\n",
    "\n",
    "\n",
    "**Avoiding Overfitting**\n",
    "To avoid overfitting, regularization parameters can be added to the model such as:\n",
    "- Maximum depth of the tree: Maximum splits of a tree\n",
    "- Minimum population at a node: Number of observations in the node (the minimum populationa node should consist of). if you don't use a number of observation your model will overfit\n",
    "- Maximan number of decision nodes (amount of nodes you want to have)\n",
    "- Minimum impurity decrease: info gain\n",
    "- Alpha: Complexity parameter\n",
    "\n",
    "Other **hyperparameters are**:\n",
    "- Criterion\n",
    "    - Gini\n",
    "    - Entropy\n",
    "- Splitter\n",
    "    - Best\n",
    "    - Random\n",
    "- Class weight\n",
    " - Balanced\n",
    " - None \n",
    " \n",
    " Imbalanced data typically refers to a classification problem where the number of observations per class is not equally distributed; often you will have a large amount of data/oberservations for one class(referd as the majority class which is overrepresented) and the smalles as the minority class\n",
    " \n",
    " **Decision Trees Pros and Cons**\n",
    "- Pros\n",
    "    - Easy to interpret and visualize\n",
    "    - Can easily handle categorical data without the need to create dummy variables\n",
    "    - Can easily capture Non-linear patters\n",
    "    - Can handle data in its raw form (no preprocessing and Scaling needed as it does not use euclidience distance)\n",
    "    - Has no assumptions about the distribution because of the non-parametric nature of the algorithm\n",
    "- Cons\n",
    "    - Poor level of predictive accuracy (This can be reduced by bagging and boosting algorithms)\n",
    "    - Sensitive to noisy data. It can overfit noisy data. Small variations in data can result in different decision trees\n",
    "       \n",
    "**Overfitting, Underfitting and Fitting**\n",
    "\n",
    "    - Overfitting = Bias low, Variance high\n",
    "    - Underfiting = Bias high, Variance High\n",
    "    - Fitting = Bias low, Variance low"
   ]
  },
  {
   "cell_type": "code",
   "execution_count": 99,
   "metadata": {},
   "outputs": [],
   "source": [
    "# Import libraries\n",
    "import numpy as np\n",
    "import pandas as pd\n",
    "import matplotlib.pyplot as plt\n",
    "import seaborn as sns\n",
    "sns.set()  #if you want to use seaborn themes with matplotlib functions\n",
    "import warnings\n",
    "warnings.filterwarnings('ignore')"
   ]
  },
  {
   "cell_type": "code",
   "execution_count": 100,
   "metadata": {},
   "outputs": [],
   "source": [
    "# we use this rand_state = 1000 to keep getting the same data \n",
    "rand_state= 1000"
   ]
  },
  {
   "cell_type": "markdown",
   "metadata": {},
   "source": [
    "#### Read in the data"
   ]
  },
  {
   "cell_type": "code",
   "execution_count": 101,
   "metadata": {},
   "outputs": [],
   "source": [
    "# read in data\n",
    "df = pd.read_csv(\"Social_Network_Ads.csv\")"
   ]
  },
  {
   "cell_type": "code",
   "execution_count": 102,
   "metadata": {},
   "outputs": [
    {
     "data": {
      "text/html": [
       "<div>\n",
       "<style scoped>\n",
       "    .dataframe tbody tr th:only-of-type {\n",
       "        vertical-align: middle;\n",
       "    }\n",
       "\n",
       "    .dataframe tbody tr th {\n",
       "        vertical-align: top;\n",
       "    }\n",
       "\n",
       "    .dataframe thead th {\n",
       "        text-align: right;\n",
       "    }\n",
       "</style>\n",
       "<table border=\"1\" class=\"dataframe\">\n",
       "  <thead>\n",
       "    <tr style=\"text-align: right;\">\n",
       "      <th></th>\n",
       "      <th>User ID</th>\n",
       "      <th>Gender</th>\n",
       "      <th>Age</th>\n",
       "      <th>EstimatedSalary</th>\n",
       "      <th>Purchased</th>\n",
       "    </tr>\n",
       "  </thead>\n",
       "  <tbody>\n",
       "    <tr>\n",
       "      <th>0</th>\n",
       "      <td>15624510</td>\n",
       "      <td>Male</td>\n",
       "      <td>19</td>\n",
       "      <td>19000</td>\n",
       "      <td>0</td>\n",
       "    </tr>\n",
       "    <tr>\n",
       "      <th>1</th>\n",
       "      <td>15810944</td>\n",
       "      <td>Male</td>\n",
       "      <td>35</td>\n",
       "      <td>20000</td>\n",
       "      <td>0</td>\n",
       "    </tr>\n",
       "    <tr>\n",
       "      <th>2</th>\n",
       "      <td>15668575</td>\n",
       "      <td>Female</td>\n",
       "      <td>26</td>\n",
       "      <td>43000</td>\n",
       "      <td>0</td>\n",
       "    </tr>\n",
       "    <tr>\n",
       "      <th>3</th>\n",
       "      <td>15603246</td>\n",
       "      <td>Female</td>\n",
       "      <td>27</td>\n",
       "      <td>57000</td>\n",
       "      <td>0</td>\n",
       "    </tr>\n",
       "    <tr>\n",
       "      <th>4</th>\n",
       "      <td>15804002</td>\n",
       "      <td>Male</td>\n",
       "      <td>19</td>\n",
       "      <td>76000</td>\n",
       "      <td>0</td>\n",
       "    </tr>\n",
       "  </tbody>\n",
       "</table>\n",
       "</div>"
      ],
      "text/plain": [
       "    User ID  Gender  Age  EstimatedSalary  Purchased\n",
       "0  15624510    Male   19            19000          0\n",
       "1  15810944    Male   35            20000          0\n",
       "2  15668575  Female   26            43000          0\n",
       "3  15603246  Female   27            57000          0\n",
       "4  15804002    Male   19            76000          0"
      ]
     },
     "execution_count": 102,
     "metadata": {},
     "output_type": "execute_result"
    }
   ],
   "source": [
    "# Print first 5 rows of the dataset\n",
    "df.head()"
   ]
  },
  {
   "cell_type": "code",
   "execution_count": 103,
   "metadata": {},
   "outputs": [
    {
     "name": "stdout",
     "output_type": "stream",
     "text": [
      "<class 'pandas.core.frame.DataFrame'>\n",
      "RangeIndex: 400 entries, 0 to 399\n",
      "Data columns (total 5 columns):\n",
      " #   Column           Non-Null Count  Dtype \n",
      "---  ------           --------------  ----- \n",
      " 0   User ID          400 non-null    int64 \n",
      " 1   Gender           400 non-null    object\n",
      " 2   Age              400 non-null    int64 \n",
      " 3   EstimatedSalary  400 non-null    int64 \n",
      " 4   Purchased        400 non-null    int64 \n",
      "dtypes: int64(4), object(1)\n",
      "memory usage: 15.8+ KB\n"
     ]
    }
   ],
   "source": [
    "# Check for null values and what type our columns are\n",
    "df.info()"
   ]
  },
  {
   "cell_type": "code",
   "execution_count": 104,
   "metadata": {},
   "outputs": [
    {
     "data": {
      "text/html": [
       "<div>\n",
       "<style scoped>\n",
       "    .dataframe tbody tr th:only-of-type {\n",
       "        vertical-align: middle;\n",
       "    }\n",
       "\n",
       "    .dataframe tbody tr th {\n",
       "        vertical-align: top;\n",
       "    }\n",
       "\n",
       "    .dataframe thead th {\n",
       "        text-align: right;\n",
       "    }\n",
       "</style>\n",
       "<table border=\"1\" class=\"dataframe\">\n",
       "  <thead>\n",
       "    <tr style=\"text-align: right;\">\n",
       "      <th>Purchased</th>\n",
       "      <th>0</th>\n",
       "      <th>1</th>\n",
       "    </tr>\n",
       "    <tr>\n",
       "      <th>Purchased</th>\n",
       "      <th></th>\n",
       "      <th></th>\n",
       "    </tr>\n",
       "  </thead>\n",
       "  <tbody>\n",
       "    <tr>\n",
       "      <th>0</th>\n",
       "      <td>64.25</td>\n",
       "      <td>0.00</td>\n",
       "    </tr>\n",
       "    <tr>\n",
       "      <th>1</th>\n",
       "      <td>0.00</td>\n",
       "      <td>35.75</td>\n",
       "    </tr>\n",
       "  </tbody>\n",
       "</table>\n",
       "</div>"
      ],
      "text/plain": [
       "Purchased      0      1\n",
       "Purchased              \n",
       "0          64.25   0.00\n",
       "1           0.00  35.75"
      ]
     },
     "execution_count": 104,
     "metadata": {},
     "output_type": "execute_result"
    }
   ],
   "source": [
    "# First we look at target variable porportions\n",
    "pd.crosstab(df['Purchased'], df['Purchased'], normalize='all')*100"
   ]
  },
  {
   "cell_type": "markdown",
   "metadata": {},
   "source": [
    "From the graph below we can see that\n",
    "- 64.25% not prucashed\n",
    "- 35.75% purchased"
   ]
  },
  {
   "cell_type": "markdown",
   "metadata": {},
   "source": [
    "# Data preprocessing"
   ]
  },
  {
   "cell_type": "code",
   "execution_count": 105,
   "metadata": {},
   "outputs": [
    {
     "data": {
      "text/plain": [
       "User ID            0\n",
       "Gender             0\n",
       "Age                0\n",
       "EstimatedSalary    0\n",
       "Purchased          0\n",
       "dtype: int64"
      ]
     },
     "execution_count": 105,
     "metadata": {},
     "output_type": "execute_result"
    }
   ],
   "source": [
    "df.isnull().sum()"
   ]
  },
  {
   "cell_type": "code",
   "execution_count": 106,
   "metadata": {},
   "outputs": [],
   "source": [
    "# drop not used columns\n",
    "df.drop('User ID', axis=1, inplace=True)"
   ]
  },
  {
   "cell_type": "markdown",
   "metadata": {},
   "source": [
    "# Dealing with categorical variables:\n",
    "\n",
    "In Decision Trees models, we don't need to transfer the categorical variable into dummy variables. However, the algorithm cannot handle string names either. So we should number code the categorical variables"
   ]
  },
  {
   "cell_type": "code",
   "execution_count": 107,
   "metadata": {},
   "outputs": [],
   "source": [
    "df['Gender']=np.where(df['Gender']=='Male',1,0)"
   ]
  },
  {
   "cell_type": "code",
   "execution_count": 108,
   "metadata": {},
   "outputs": [
    {
     "data": {
      "text/plain": [
       "Index(['Gender', 'Age', 'EstimatedSalary', 'Purchased'], dtype='object')"
      ]
     },
     "execution_count": 108,
     "metadata": {},
     "output_type": "execute_result"
    }
   ],
   "source": [
    "df.columns"
   ]
  },
  {
   "cell_type": "code",
   "execution_count": 109,
   "metadata": {},
   "outputs": [],
   "source": [
    "# Rearange column order\n",
    "df = df[['Purchased', 'Age', 'EstimatedSalary', 'Gender']]"
   ]
  },
  {
   "cell_type": "code",
   "execution_count": 110,
   "metadata": {},
   "outputs": [
    {
     "data": {
      "text/html": [
       "<div>\n",
       "<style scoped>\n",
       "    .dataframe tbody tr th:only-of-type {\n",
       "        vertical-align: middle;\n",
       "    }\n",
       "\n",
       "    .dataframe tbody tr th {\n",
       "        vertical-align: top;\n",
       "    }\n",
       "\n",
       "    .dataframe thead th {\n",
       "        text-align: right;\n",
       "    }\n",
       "</style>\n",
       "<table border=\"1\" class=\"dataframe\">\n",
       "  <thead>\n",
       "    <tr style=\"text-align: right;\">\n",
       "      <th></th>\n",
       "      <th>Purchased</th>\n",
       "      <th>Age</th>\n",
       "      <th>EstimatedSalary</th>\n",
       "      <th>Gender</th>\n",
       "    </tr>\n",
       "  </thead>\n",
       "  <tbody>\n",
       "    <tr>\n",
       "      <th>0</th>\n",
       "      <td>0</td>\n",
       "      <td>19</td>\n",
       "      <td>19000</td>\n",
       "      <td>1</td>\n",
       "    </tr>\n",
       "    <tr>\n",
       "      <th>1</th>\n",
       "      <td>0</td>\n",
       "      <td>35</td>\n",
       "      <td>20000</td>\n",
       "      <td>1</td>\n",
       "    </tr>\n",
       "    <tr>\n",
       "      <th>2</th>\n",
       "      <td>0</td>\n",
       "      <td>26</td>\n",
       "      <td>43000</td>\n",
       "      <td>0</td>\n",
       "    </tr>\n",
       "    <tr>\n",
       "      <th>3</th>\n",
       "      <td>0</td>\n",
       "      <td>27</td>\n",
       "      <td>57000</td>\n",
       "      <td>0</td>\n",
       "    </tr>\n",
       "    <tr>\n",
       "      <th>4</th>\n",
       "      <td>0</td>\n",
       "      <td>19</td>\n",
       "      <td>76000</td>\n",
       "      <td>1</td>\n",
       "    </tr>\n",
       "  </tbody>\n",
       "</table>\n",
       "</div>"
      ],
      "text/plain": [
       "   Purchased  Age  EstimatedSalary  Gender\n",
       "0          0   19            19000       1\n",
       "1          0   35            20000       1\n",
       "2          0   26            43000       0\n",
       "3          0   27            57000       0\n",
       "4          0   19            76000       1"
      ]
     },
     "execution_count": 110,
     "metadata": {},
     "output_type": "execute_result"
    }
   ],
   "source": [
    "df.head()"
   ]
  },
  {
   "cell_type": "markdown",
   "metadata": {},
   "source": [
    "# Data visualization"
   ]
  },
  {
   "cell_type": "code",
   "execution_count": 111,
   "metadata": {},
   "outputs": [
    {
     "data": {
      "image/png": "[encoded data removed]",
      "text/plain": [
       "<Figure size 432x288 with 2 Axes>"
      ]
     },
     "metadata": {},
     "output_type": "display_data"
    }
   ],
   "source": [
    "# useing heatmap to see the correlation between our features\n",
    "sns.heatmap(df.corr(), cmap='coolwarm', annot=True)\n",
    "plt.show()"
   ]
  },
  {
   "cell_type": "markdown",
   "metadata": {},
   "source": [
    "Taken our dependent feature Purchased we can see that independent feature Age is highly correlated"
   ]
  },
  {
   "cell_type": "code",
   "execution_count": 112,
   "metadata": {},
   "outputs": [
    {
     "data": {
      "image/png": "[encoded data removed]",
      "text/plain": [
       "<Figure size 606.05x540 with 12 Axes>"
      ]
     },
     "metadata": {},
     "output_type": "display_data"
    }
   ],
   "source": [
    "sns.set_style('whitegrid')\n",
    "sns.pairplot(df,hue='Purchased')\n",
    "plt.show()"
   ]
  },
  {
   "cell_type": "markdown",
   "metadata": {},
   "source": [
    "# Defining the variables and splitting the data"
   ]
  },
  {
   "cell_type": "code",
   "execution_count": 113,
   "metadata": {},
   "outputs": [],
   "source": [
    "y = df['Purchased'] # dependent features\n",
    "X = df.drop('Purchased', axis=1) # independent features\n",
    "\n",
    "from sklearn.model_selection import train_test_split\n",
    "X_train, X_test, y_train, y_test = train_test_split(X, y, test_size=0.2, random_state=rand_state)"
   ]
  },
  {
   "cell_type": "markdown",
   "metadata": {},
   "source": [
    "# Scaling the features\n",
    "\n",
    "For tree based models, there is no need to scale the features (No distance metrics is used)"
   ]
  },
  {
   "cell_type": "markdown",
   "metadata": {},
   "source": [
    "# Decision Tree Classification with SKlearn"
   ]
  },
  {
   "cell_type": "code",
   "execution_count": 114,
   "metadata": {},
   "outputs": [],
   "source": [
    "# Import Machine Learning Model DecissionTreeClassifier\n",
    "from sklearn.tree import DecisionTreeClassifier"
   ]
  },
  {
   "cell_type": "code",
   "execution_count": 115,
   "metadata": {},
   "outputs": [
    {
     "data": {
      "text/plain": [
       "DecisionTreeClassifier()"
      ]
     },
     "execution_count": 115,
     "metadata": {},
     "output_type": "execute_result"
    }
   ],
   "source": [
    "# Set the DecisionTreeClassifier in a class\n",
    "Tree_classifier = DecisionTreeClassifier()\n",
    "\n",
    "# Fitting our train data\n",
    "Tree_classifier.fit(X_train, y_train)"
   ]
  },
  {
   "cell_type": "code",
   "execution_count": 117,
   "metadata": {},
   "outputs": [],
   "source": [
    "# Predicting the Test set classes\n",
    "y_hat = Tree_classifier.predict(X_test) #y_hat are our predictions"
   ]
  },
  {
   "cell_type": "markdown",
   "metadata": {},
   "source": [
    "## Performance metrics:\n",
    "\n",
    "**What is a Confusion Matrix?**\n",
    "\n",
    "A confusion matrix is a summary of prediction results on a classification problem.\n",
    "\n",
    "The number of correct and incorrect predictions are summarized with count values and broken down by each class. This is the key to the confusion matrix.\n",
    "\n",
    "The confusion matrix shows the ways in which your classification model\n",
    "is confused when it makes predictions.\n",
    "\n",
    "It gives you insight not only into the errors being made by your classifier but more importantly the types of errors that are being made.\n"
   ]
  },
  {
   "cell_type": "code",
   "execution_count": 118,
   "metadata": {},
   "outputs": [],
   "source": [
    "from sklearn.metrics import accuracy_score, recall_score, precision_score, f1_score\n",
    "from sklearn.metrics import confusion_matrix, classification_report, roc_curve, roc_auc_score"
   ]
  },
  {
   "cell_type": "markdown",
   "metadata": {},
   "source": [
    "#### Confusion matrix"
   ]
  },
  {
   "cell_type": "code",
   "execution_count": 91,
   "metadata": {},
   "outputs": [
    {
     "name": "stdout",
     "output_type": "stream",
     "text": [
      "[[44  4]\n",
      " [13 19]]\n"
     ]
    }
   ],
   "source": [
    "print(confusion_matrix(y_test, y_hat))"
   ]
  },
  {
   "cell_type": "code",
   "execution_count": 119,
   "metadata": {},
   "outputs": [
    {
     "data": {
      "text/plain": [
       "(80,)"
      ]
     },
     "execution_count": 119,
     "metadata": {},
     "output_type": "execute_result"
    }
   ],
   "source": [
    "y_test.shape"
   ]
  },
  {
   "cell_type": "markdown",
   "metadata": {},
   "source": [
    "When we sum the numbers in the confusion matrix we will get 80 which is teh same as our test size.\n",
    "\n",
    "**What Does The Confusion Matrix says?**\n",
    "- 44 did purchased were classified correctly\n",
    "- 19 did not purchased were classified correctly\n",
    "- 13 did purchased were classified incorrectly\n",
    "- 4 did not purchased were classief incorrectly\n",
    "\n",
    "#### Built-in classification report"
   ]
  },
  {
   "cell_type": "code",
   "execution_count": 121,
   "metadata": {},
   "outputs": [
    {
     "name": "stdout",
     "output_type": "stream",
     "text": [
      "              precision    recall  f1-score   support\n",
      "\n",
      "           0       0.75      0.88      0.81        48\n",
      "           1       0.75      0.56      0.64        32\n",
      "\n",
      "    accuracy                           0.75        80\n",
      "   macro avg       0.75      0.72      0.73        80\n",
      "weighted avg       0.75      0.75      0.74        80\n",
      "\n"
     ]
    }
   ],
   "source": [
    "print(classification_report(y_test, y_hat))"
   ]
  },
  {
   "cell_type": "markdown",
   "metadata": {},
   "source": [
    "## Pruning the tree using cost complexity pruning method. \n",
    "### Choosing $\\alpha$ with cross validation. "
   ]
  },
  {
   "cell_type": "code",
   "execution_count": 122,
   "metadata": {},
   "outputs": [],
   "source": [
    "path = DecisionTreeClassifier().cost_complexity_pruning_path(X_train,y_train)"
   ]
  },
  {
   "cell_type": "code",
   "execution_count": 123,
   "metadata": {},
   "outputs": [
    {
     "data": {
      "text/plain": [
       "{'ccp_alphas': array([0.        , 0.0015625 , 0.0020202 , 0.00203488, 0.00243056,\n",
       "        0.0025    , 0.0025    , 0.00265625, 0.00273437, 0.00277778,\n",
       "        0.00284091, 0.003125  , 0.00318723, 0.00357143, 0.00381731,\n",
       "        0.00511297, 0.00775811, 0.008125  , 0.12078047, 0.18094607]),\n",
       " 'impurities': array([0.003125  , 0.0046875 , 0.01074811, 0.01685276, 0.02657498,\n",
       "        0.03157498, 0.03907498, 0.04438748, 0.04985623, 0.05541179,\n",
       "        0.0610936 , 0.0673436 , 0.08327975, 0.09399404, 0.10162865,\n",
       "        0.11185459, 0.13512893, 0.15137893, 0.27215939, 0.45310547])}"
      ]
     },
     "execution_count": 123,
     "metadata": {},
     "output_type": "execute_result"
    }
   ],
   "source": [
    "path"
   ]
  },
  {
   "cell_type": "code",
   "execution_count": 124,
   "metadata": {},
   "outputs": [],
   "source": [
    "ccp_alphas = path.ccp_alphas"
   ]
  },
  {
   "cell_type": "code",
   "execution_count": 125,
   "metadata": {},
   "outputs": [
    {
     "data": {
      "text/plain": [
       "['accuracy',\n",
       " 'adjusted_mutual_info_score',\n",
       " 'adjusted_rand_score',\n",
       " 'average_precision',\n",
       " 'balanced_accuracy',\n",
       " 'completeness_score',\n",
       " 'explained_variance',\n",
       " 'f1',\n",
       " 'f1_macro',\n",
       " 'f1_micro',\n",
       " 'f1_samples',\n",
       " 'f1_weighted',\n",
       " 'fowlkes_mallows_score',\n",
       " 'homogeneity_score',\n",
       " 'jaccard',\n",
       " 'jaccard_macro',\n",
       " 'jaccard_micro',\n",
       " 'jaccard_samples',\n",
       " 'jaccard_weighted',\n",
       " 'max_error',\n",
       " 'mutual_info_score',\n",
       " 'neg_brier_score',\n",
       " 'neg_log_loss',\n",
       " 'neg_mean_absolute_error',\n",
       " 'neg_mean_gamma_deviance',\n",
       " 'neg_mean_poisson_deviance',\n",
       " 'neg_mean_squared_error',\n",
       " 'neg_mean_squared_log_error',\n",
       " 'neg_median_absolute_error',\n",
       " 'neg_root_mean_squared_error',\n",
       " 'normalized_mutual_info_score',\n",
       " 'precision',\n",
       " 'precision_macro',\n",
       " 'precision_micro',\n",
       " 'precision_samples',\n",
       " 'precision_weighted',\n",
       " 'r2',\n",
       " 'recall',\n",
       " 'recall_macro',\n",
       " 'recall_micro',\n",
       " 'recall_samples',\n",
       " 'recall_weighted',\n",
       " 'roc_auc',\n",
       " 'roc_auc_ovo',\n",
       " 'roc_auc_ovo_weighted',\n",
       " 'roc_auc_ovr',\n",
       " 'roc_auc_ovr_weighted',\n",
       " 'v_measure_score']"
      ]
     },
     "execution_count": 125,
     "metadata": {},
     "output_type": "execute_result"
    }
   ],
   "source": [
    "from sklearn.model_selection import cross_val_score\n",
    "import sklearn.metrics\n",
    "sorted(sklearn.metrics.SCORERS.keys())"
   ]
  },
  {
   "cell_type": "code",
   "execution_count": 128,
   "metadata": {},
   "outputs": [
    {
     "data": {
      "text/html": [
       "<div>\n",
       "<style scoped>\n",
       "    .dataframe tbody tr th:only-of-type {\n",
       "        vertical-align: middle;\n",
       "    }\n",
       "\n",
       "    .dataframe tbody tr th {\n",
       "        vertical-align: top;\n",
       "    }\n",
       "\n",
       "    .dataframe thead th {\n",
       "        text-align: right;\n",
       "    }\n",
       "</style>\n",
       "<table border=\"1\" class=\"dataframe\">\n",
       "  <thead>\n",
       "    <tr style=\"text-align: right;\">\n",
       "      <th></th>\n",
       "      <th>alpha</th>\n",
       "      <th>accuracy_CV</th>\n",
       "    </tr>\n",
       "  </thead>\n",
       "  <tbody>\n",
       "    <tr>\n",
       "      <th>0</th>\n",
       "      <td>0.000000</td>\n",
       "      <td>0.878125</td>\n",
       "    </tr>\n",
       "    <tr>\n",
       "      <th>1</th>\n",
       "      <td>0.001562</td>\n",
       "      <td>0.871875</td>\n",
       "    </tr>\n",
       "    <tr>\n",
       "      <th>2</th>\n",
       "      <td>0.002020</td>\n",
       "      <td>0.871875</td>\n",
       "    </tr>\n",
       "    <tr>\n",
       "      <th>3</th>\n",
       "      <td>0.002035</td>\n",
       "      <td>0.859375</td>\n",
       "    </tr>\n",
       "    <tr>\n",
       "      <th>4</th>\n",
       "      <td>0.002431</td>\n",
       "      <td>0.875000</td>\n",
       "    </tr>\n",
       "    <tr>\n",
       "      <th>5</th>\n",
       "      <td>0.002500</td>\n",
       "      <td>0.878125</td>\n",
       "    </tr>\n",
       "    <tr>\n",
       "      <th>6</th>\n",
       "      <td>0.002500</td>\n",
       "      <td>0.862500</td>\n",
       "    </tr>\n",
       "    <tr>\n",
       "      <th>7</th>\n",
       "      <td>0.002656</td>\n",
       "      <td>0.871875</td>\n",
       "    </tr>\n",
       "    <tr>\n",
       "      <th>8</th>\n",
       "      <td>0.002734</td>\n",
       "      <td>0.871875</td>\n",
       "    </tr>\n",
       "    <tr>\n",
       "      <th>9</th>\n",
       "      <td>0.002778</td>\n",
       "      <td>0.875000</td>\n",
       "    </tr>\n",
       "    <tr>\n",
       "      <th>10</th>\n",
       "      <td>0.002841</td>\n",
       "      <td>0.859375</td>\n",
       "    </tr>\n",
       "    <tr>\n",
       "      <th>11</th>\n",
       "      <td>0.003125</td>\n",
       "      <td>0.871875</td>\n",
       "    </tr>\n",
       "    <tr>\n",
       "      <th>12</th>\n",
       "      <td>0.003187</td>\n",
       "      <td>0.868750</td>\n",
       "    </tr>\n",
       "    <tr>\n",
       "      <th>13</th>\n",
       "      <td>0.003571</td>\n",
       "      <td>0.878125</td>\n",
       "    </tr>\n",
       "    <tr>\n",
       "      <th>14</th>\n",
       "      <td>0.003817</td>\n",
       "      <td>0.881250</td>\n",
       "    </tr>\n",
       "    <tr>\n",
       "      <th>15</th>\n",
       "      <td>0.005113</td>\n",
       "      <td>0.890625</td>\n",
       "    </tr>\n",
       "    <tr>\n",
       "      <th>16</th>\n",
       "      <td>0.007758</td>\n",
       "      <td>0.890625</td>\n",
       "    </tr>\n",
       "    <tr>\n",
       "      <th>17</th>\n",
       "      <td>0.008125</td>\n",
       "      <td>0.890625</td>\n",
       "    </tr>\n",
       "    <tr>\n",
       "      <th>18</th>\n",
       "      <td>0.120780</td>\n",
       "      <td>0.853125</td>\n",
       "    </tr>\n",
       "    <tr>\n",
       "      <th>19</th>\n",
       "      <td>0.180946</td>\n",
       "      <td>0.737500</td>\n",
       "    </tr>\n",
       "  </tbody>\n",
       "</table>\n",
       "</div>"
      ],
      "text/plain": [
       "       alpha  accuracy_CV\n",
       "0   0.000000     0.878125\n",
       "1   0.001562     0.871875\n",
       "2   0.002020     0.871875\n",
       "3   0.002035     0.859375\n",
       "4   0.002431     0.875000\n",
       "5   0.002500     0.878125\n",
       "6   0.002500     0.862500\n",
       "7   0.002656     0.871875\n",
       "8   0.002734     0.871875\n",
       "9   0.002778     0.875000\n",
       "10  0.002841     0.859375\n",
       "11  0.003125     0.871875\n",
       "12  0.003187     0.868750\n",
       "13  0.003571     0.878125\n",
       "14  0.003817     0.881250\n",
       "15  0.005113     0.890625\n",
       "16  0.007758     0.890625\n",
       "17  0.008125     0.890625\n",
       "18  0.120780     0.853125\n",
       "19  0.180946     0.737500"
      ]
     },
     "execution_count": 128,
     "metadata": {},
     "output_type": "execute_result"
    }
   ],
   "source": [
    "# Putting all our alphas with respective accuracies in a dataframe\n",
    "accuracy_cv =[]\n",
    "for alpha in ccp_alphas:\n",
    "    accuracy = cross_val_score(estimator = DecisionTreeClassifier(ccp_alpha=alpha), X = X_train, y = y_train, cv = 5 , scoring=\"accuracy\" )\n",
    "    accuracy_cv.append(np.mean(accuracy))\n",
    "    \n",
    "output = pd.DataFrame(list(ccp_alphas), columns=['alpha'])\n",
    "output['accuracy_CV']=accuracy_cv\n",
    "\n",
    "output.head(30)"
   ]
  },
  {
   "cell_type": "code",
   "execution_count": 129,
   "metadata": {},
   "outputs": [
    {
     "data": {
      "image/png": "[encoded data removed]",
      "text/plain": [
       "<Figure size 432x288 with 1 Axes>"
      ]
     },
     "metadata": {},
     "output_type": "display_data"
    }
   ],
   "source": [
    "# Plotting the Accuracy vs Alpha\n",
    "sns.lineplot(x='alpha', y='accuracy_CV', data=output , color='b', label=\"accuracy_CV vs alpha\")\n",
    "plt.show()"
   ]
  },
  {
   "cell_type": "markdown",
   "metadata": {},
   "source": [
    "Fromt he graph above we can conclude as the alpha increases the accuracy decreases"
   ]
  },
  {
   "cell_type": "code",
   "execution_count": 131,
   "metadata": {},
   "outputs": [
    {
     "data": {
      "text/plain": [
       "15"
      ]
     },
     "execution_count": 131,
     "metadata": {},
     "output_type": "execute_result"
    }
   ],
   "source": [
    "# Shows which row in the dataframe has the highest accuracy \n",
    "np.argmax(output['accuracy_CV'])"
   ]
  },
  {
   "cell_type": "code",
   "execution_count": 132,
   "metadata": {},
   "outputs": [
    {
     "data": {
      "text/plain": [
       "alpha          0.005113\n",
       "accuracy_CV    0.890625\n",
       "Name: 15, dtype: float64"
      ]
     },
     "execution_count": 132,
     "metadata": {},
     "output_type": "execute_result"
    }
   ],
   "source": [
    "# Shows the highest accuracy in the dataframe\n",
    "output.iloc[np.argmax(output['accuracy_CV']),]"
   ]
  },
  {
   "cell_type": "markdown",
   "metadata": {},
   "source": [
    "**The maximum accuracy is 88%**"
   ]
  },
  {
   "cell_type": "code",
   "execution_count": 133,
   "metadata": {},
   "outputs": [
    {
     "data": {
      "text/plain": [
       "0.005112967633459416"
      ]
     },
     "execution_count": 133,
     "metadata": {},
     "output_type": "execute_result"
    }
   ],
   "source": [
    "# Gets the optimal alpha from the dataframe and stores it in a variable called optimal_alpha\n",
    "optimal_alpha = output.iloc[np.argmax(output['accuracy_CV']),0]\n",
    "optimal_alpha"
   ]
  },
  {
   "cell_type": "markdown",
   "metadata": {},
   "source": [
    "**Refit the Decision Tree classifier with optimal alpha**"
   ]
  },
  {
   "cell_type": "code",
   "execution_count": 134,
   "metadata": {},
   "outputs": [],
   "source": [
    "optimal_DT = DecisionTreeClassifier(ccp_alpha=optimal_alpha)\n",
    "optimal_DT.fit(X_train, y_train)\n",
    "y_hat_opt = optimal_DT.predict(X_test)"
   ]
  },
  {
   "cell_type": "markdown",
   "metadata": {},
   "source": [
    "#### Confusion matrix"
   ]
  },
  {
   "cell_type": "code",
   "execution_count": 135,
   "metadata": {},
   "outputs": [
    {
     "name": "stdout",
     "output_type": "stream",
     "text": [
      "[[45  3]\n",
      " [ 8 24]]\n"
     ]
    }
   ],
   "source": [
    "print(confusion_matrix(y_test, y_hat_opt))"
   ]
  },
  {
   "cell_type": "markdown",
   "metadata": {},
   "source": [
    "**What Does The Confusion Matrix says?**\n",
    "- 45 did purchased were classified correctly\n",
    "- 24 did not purchased were classified correctly\n",
    "- 8 did purchased were classified incorrectly\n",
    "- 3 did not purchased were classief incorrectly\n",
    "\n",
    "Compared with the previous confusion matrix without the optimal alpha we caan see that the predictions have increased and the model got better\n"
   ]
  },
  {
   "cell_type": "markdown",
   "metadata": {},
   "source": [
    "#### Built-in classification report"
   ]
  },
  {
   "cell_type": "code",
   "execution_count": 136,
   "metadata": {},
   "outputs": [
    {
     "name": "stdout",
     "output_type": "stream",
     "text": [
      "              precision    recall  f1-score   support\n",
      "\n",
      "           0       0.85      0.94      0.89        48\n",
      "           1       0.89      0.75      0.81        32\n",
      "\n",
      "    accuracy                           0.86        80\n",
      "   macro avg       0.87      0.84      0.85        80\n",
      "weighted avg       0.86      0.86      0.86        80\n",
      "\n"
     ]
    }
   ],
   "source": [
    "print(classification_report(y_test, y_hat_opt))"
   ]
  },
  {
   "cell_type": "markdown",
   "metadata": {},
   "source": [
    "###  Cross validation\n",
    "\n",
    "Now let's try to get an estimate for the accuracy of our model using cross validation technique. "
   ]
  },
  {
   "cell_type": "code",
   "execution_count": 137,
   "metadata": {},
   "outputs": [],
   "source": [
    "from sklearn.model_selection import cross_val_score"
   ]
  },
  {
   "cell_type": "code",
   "execution_count": 147,
   "metadata": {},
   "outputs": [],
   "source": [
    "# remember we saved our model in an object called \"Tree_classifier\"\n",
    "accuracy = cross_val_score(estimator = optimal_DT, X = X_train, y = y_train, cv = 5 , scoring=\"accuracy\" )"
   ]
  },
  {
   "cell_type": "code",
   "execution_count": 149,
   "metadata": {},
   "outputs": [
    {
     "data": {
      "text/plain": [
       "array([0.90625 , 0.890625, 0.875   , 0.921875, 0.859375])"
      ]
     },
     "execution_count": 149,
     "metadata": {},
     "output_type": "execute_result"
    }
   ],
   "source": [
    "# we have given as input cv = 5 therefore 5 accuracies are displayed. If we increase the CV=10 then 10 accuracies will be displayed\n",
    "accuracy"
   ]
  },
  {
   "cell_type": "code",
   "execution_count": 150,
   "metadata": {},
   "outputs": [
    {
     "data": {
      "text/plain": [
       "0.891"
      ]
     },
     "execution_count": 150,
     "metadata": {},
     "output_type": "execute_result"
    }
   ],
   "source": [
    "# calcualtes the accuracy \n",
    "round(accuracy.mean(),3)"
   ]
  },
  {
   "cell_type": "markdown",
   "metadata": {},
   "source": [
    "## Visualizing the Tree\n",
    "4 different ways of visualizing a tree in Python: https://mljar.com/blog/visualize-decision-tree/"
   ]
  },
  {
   "cell_type": "markdown",
   "metadata": {},
   "source": [
    "Plot DT with **plot_tree** method from sklearn. \n",
    "\n",
    "Let's visualize one simple tree with two features only. \n"
   ]
  },
  {
   "cell_type": "code",
   "execution_count": 151,
   "metadata": {},
   "outputs": [
    {
     "data": {
      "text/plain": [
       "Index(['Purchased', 'Age', 'EstimatedSalary', 'Gender'], dtype='object')"
      ]
     },
     "execution_count": 151,
     "metadata": {},
     "output_type": "execute_result"
    }
   ],
   "source": [
    "df.columns"
   ]
  },
  {
   "cell_type": "code",
   "execution_count": 152,
   "metadata": {},
   "outputs": [
    {
     "data": {
      "image/png": "[encoded data removed]",
      "text/plain": [
       "<Figure size 432x288 with 1 Axes>"
      ]
     },
     "metadata": {},
     "output_type": "display_data"
    }
   ],
   "source": [
    "sns.scatterplot(x='Age', y='EstimatedSalary', data=df, hue='Purchased')\n",
    "plt.show()"
   ]
  },
  {
   "cell_type": "markdown",
   "metadata": {},
   "source": [
    "Fromt he scerplot above we can see that when the age is 40 and salary is around 90K they can be grouped in did not Purchased and above that Did Purchase"
   ]
  },
  {
   "cell_type": "code",
   "execution_count": 160,
   "metadata": {},
   "outputs": [],
   "source": [
    "dtree= DecisionTreeClassifier(max_depth=2, ccp_alpha=0) #min_samples_leaf=0\n",
    "dtree.fit(X_train, y_train)\n",
    "yhat = dtree.predict(X_test)"
   ]
  },
  {
   "cell_type": "code",
   "execution_count": 161,
   "metadata": {},
   "outputs": [],
   "source": [
    "from sklearn import tree"
   ]
  },
  {
   "cell_type": "code",
   "execution_count": 162,
   "metadata": {},
   "outputs": [
    {
     "data": {
      "text/plain": [
       "(320, 3)"
      ]
     },
     "execution_count": 162,
     "metadata": {},
     "output_type": "execute_result"
    }
   ],
   "source": [
    "# Checks shape of the dataframe\n",
    "X_train.shape"
   ]
  },
  {
   "cell_type": "code",
   "execution_count": 164,
   "metadata": {},
   "outputs": [
    {
     "data": {
      "text/html": [
       "<div>\n",
       "<style scoped>\n",
       "    .dataframe tbody tr th:only-of-type {\n",
       "        vertical-align: middle;\n",
       "    }\n",
       "\n",
       "    .dataframe tbody tr th {\n",
       "        vertical-align: top;\n",
       "    }\n",
       "\n",
       "    .dataframe thead th {\n",
       "        text-align: right;\n",
       "    }\n",
       "</style>\n",
       "<table border=\"1\" class=\"dataframe\">\n",
       "  <thead>\n",
       "    <tr style=\"text-align: right;\">\n",
       "      <th></th>\n",
       "      <th>Age</th>\n",
       "      <th>EstimatedSalary</th>\n",
       "      <th>Gender</th>\n",
       "    </tr>\n",
       "  </thead>\n",
       "  <tbody>\n",
       "    <tr>\n",
       "      <th>269</th>\n",
       "      <td>40</td>\n",
       "      <td>61000</td>\n",
       "      <td>1</td>\n",
       "    </tr>\n",
       "    <tr>\n",
       "      <th>389</th>\n",
       "      <td>48</td>\n",
       "      <td>35000</td>\n",
       "      <td>0</td>\n",
       "    </tr>\n",
       "    <tr>\n",
       "      <th>232</th>\n",
       "      <td>40</td>\n",
       "      <td>107000</td>\n",
       "      <td>1</td>\n",
       "    </tr>\n",
       "    <tr>\n",
       "      <th>89</th>\n",
       "      <td>35</td>\n",
       "      <td>50000</td>\n",
       "      <td>1</td>\n",
       "    </tr>\n",
       "    <tr>\n",
       "      <th>236</th>\n",
       "      <td>40</td>\n",
       "      <td>57000</td>\n",
       "      <td>1</td>\n",
       "    </tr>\n",
       "  </tbody>\n",
       "</table>\n",
       "</div>"
      ],
      "text/plain": [
       "     Age  EstimatedSalary  Gender\n",
       "269   40            61000       1\n",
       "389   48            35000       0\n",
       "232   40           107000       1\n",
       "89    35            50000       1\n",
       "236   40            57000       1"
      ]
     },
     "execution_count": 164,
     "metadata": {},
     "output_type": "execute_result"
    }
   ],
   "source": [
    "# First 5 rows of the dataframe\n",
    "X_train.head()"
   ]
  },
  {
   "cell_type": "code",
   "execution_count": 165,
   "metadata": {},
   "outputs": [
    {
     "data": {
      "image/svg+xml": [
       "<?xml version=\"1.0\" encoding=\"UTF-8\" standalone=\"no\"?>\r\n",
       "<!DOCTYPE svg PUBLIC \"-//W3C//DTD SVG 1.1//EN\"\r\n",
       " \"http://www.w3.org/Graphics/SVG/1.1/DTD/svg11.dtd\">\r\n",
       "<!-- Generated by graphviz version 2.38.0 (20140413.2041)\r\n",
       " -->\r\n",
       "<!-- Title: Tree Pages: 1 -->\r\n",
       "<svg width=\"480pt\" height=\"269pt\"\r\n",
       " viewBox=\"0.00 0.00 480.00 269.00\" xmlns=\"http://www.w3.org/2000/svg\" xmlns:xlink=\"http://www.w3.org/1999/xlink\">\r\n",
       "<g id=\"graph0\" class=\"graph\" transform=\"scale(1 1) rotate(0) translate(4 265)\">\r\n",
       "<title>Tree</title>\r\n",
       "<polygon fill=\"white\" stroke=\"none\" points=\"-4,4 -4,-265 476,-265 476,4 -4,4\"/>\r\n",
       "<!-- 0 -->\r\n",
       "<g id=\"node1\" class=\"node\"><title>0</title>\r\n",
       "<polygon fill=\"#f3c4a2\" stroke=\"black\" points=\"297,-261 179,-261 179,-193 297,-193 297,-261\"/>\r\n",
       "<text text-anchor=\"middle\" x=\"238\" y=\"-245.8\" font-family=\"Times New Roman,serif\" font-size=\"14.00\">Age &lt;= 42.5</text>\r\n",
       "<text text-anchor=\"middle\" x=\"238\" y=\"-230.8\" font-family=\"Times New Roman,serif\" font-size=\"14.00\">gini = 0.453</text>\r\n",
       "<text text-anchor=\"middle\" x=\"238\" y=\"-215.8\" font-family=\"Times New Roman,serif\" font-size=\"14.00\">samples = 320</text>\r\n",
       "<text text-anchor=\"middle\" x=\"238\" y=\"-200.8\" font-family=\"Times New Roman,serif\" font-size=\"14.00\">value = [209, 111]</text>\r\n",
       "</g>\r\n",
       "<!-- 1 -->\r\n",
       "<g id=\"node2\" class=\"node\"><title>1</title>\r\n",
       "<polygon fill=\"#ea995f\" stroke=\"black\" points=\"247,-157 73,-157 73,-89 247,-89 247,-157\"/>\r\n",
       "<text text-anchor=\"middle\" x=\"160\" y=\"-141.8\" font-family=\"Times New Roman,serif\" font-size=\"14.00\">EstimatedSalary &lt;= 90500.0</text>\r\n",
       "<text text-anchor=\"middle\" x=\"160\" y=\"-126.8\" font-family=\"Times New Roman,serif\" font-size=\"14.00\">gini = 0.269</text>\r\n",
       "<text text-anchor=\"middle\" x=\"160\" y=\"-111.8\" font-family=\"Times New Roman,serif\" font-size=\"14.00\">samples = 231</text>\r\n",
       "<text text-anchor=\"middle\" x=\"160\" y=\"-96.8\" font-family=\"Times New Roman,serif\" font-size=\"14.00\">value = [194, 37]</text>\r\n",
       "</g>\r\n",
       "<!-- 0&#45;&gt;1 -->\r\n",
       "<g id=\"edge1\" class=\"edge\"><title>0&#45;&gt;1</title>\r\n",
       "<path fill=\"none\" stroke=\"black\" d=\"M212.676,-192.884C206,-184.154 198.713,-174.625 191.746,-165.514\"/>\r\n",
       "<polygon fill=\"black\" stroke=\"black\" points=\"194.319,-163.117 185.464,-157.299 188.758,-167.369 194.319,-163.117\"/>\r\n",
       "<text text-anchor=\"middle\" x=\"182.16\" y=\"-178.38\" font-family=\"Times New Roman,serif\" font-size=\"14.00\">True</text>\r\n",
       "</g>\r\n",
       "<!-- 4 -->\r\n",
       "<g id=\"node5\" class=\"node\"><title>4</title>\r\n",
       "<polygon fill=\"#61b1ea\" stroke=\"black\" points=\"369,-157 265,-157 265,-89 369,-89 369,-157\"/>\r\n",
       "<text text-anchor=\"middle\" x=\"317\" y=\"-141.8\" font-family=\"Times New Roman,serif\" font-size=\"14.00\">Age &lt;= 47.5</text>\r\n",
       "<text text-anchor=\"middle\" x=\"317\" y=\"-126.8\" font-family=\"Times New Roman,serif\" font-size=\"14.00\">gini = 0.28</text>\r\n",
       "<text text-anchor=\"middle\" x=\"317\" y=\"-111.8\" font-family=\"Times New Roman,serif\" font-size=\"14.00\">samples = 89</text>\r\n",
       "<text text-anchor=\"middle\" x=\"317\" y=\"-96.8\" font-family=\"Times New Roman,serif\" font-size=\"14.00\">value = [15, 74]</text>\r\n",
       "</g>\r\n",
       "<!-- 0&#45;&gt;4 -->\r\n",
       "<g id=\"edge4\" class=\"edge\"><title>0&#45;&gt;4</title>\r\n",
       "<path fill=\"none\" stroke=\"black\" d=\"M263.649,-192.884C270.479,-184.065 277.941,-174.43 285.063,-165.235\"/>\r\n",
       "<polygon fill=\"black\" stroke=\"black\" points=\"287.853,-167.349 291.209,-157.299 282.319,-163.062 287.853,-167.349\"/>\r\n",
       "<text text-anchor=\"middle\" x=\"294.361\" y=\"-178.4\" font-family=\"Times New Roman,serif\" font-size=\"14.00\">False</text>\r\n",
       "</g>\r\n",
       "<!-- 2 -->\r\n",
       "<g id=\"node3\" class=\"node\"><title>2</title>\r\n",
       "<polygon fill=\"#e68640\" stroke=\"black\" points=\"104,-53 0,-53 0,-0 104,-0 104,-53\"/>\r\n",
       "<text text-anchor=\"middle\" x=\"52\" y=\"-37.8\" font-family=\"Times New Roman,serif\" font-size=\"14.00\">gini = 0.069</text>\r\n",
       "<text text-anchor=\"middle\" x=\"52\" y=\"-22.8\" font-family=\"Times New Roman,serif\" font-size=\"14.00\">samples = 195</text>\r\n",
       "<text text-anchor=\"middle\" x=\"52\" y=\"-7.8\" font-family=\"Times New Roman,serif\" font-size=\"14.00\">value = [188, 7]</text>\r\n",
       "</g>\r\n",
       "<!-- 1&#45;&gt;2 -->\r\n",
       "<g id=\"edge2\" class=\"edge\"><title>1&#45;&gt;2</title>\r\n",
       "<path fill=\"none\" stroke=\"black\" d=\"M122.227,-88.9485C111.458,-79.526 99.7407,-69.2731 89.0178,-59.8906\"/>\r\n",
       "<polygon fill=\"black\" stroke=\"black\" points=\"91.2439,-57.1878 81.4134,-53.2367 86.6344,-62.4558 91.2439,-57.1878\"/>\r\n",
       "</g>\r\n",
       "<!-- 3 -->\r\n",
       "<g id=\"node4\" class=\"node\"><title>3</title>\r\n",
       "<polygon fill=\"#61b1ea\" stroke=\"black\" points=\"220,-53 122,-53 122,-0 220,-0 220,-53\"/>\r\n",
       "<text text-anchor=\"middle\" x=\"171\" y=\"-37.8\" font-family=\"Times New Roman,serif\" font-size=\"14.00\">gini = 0.278</text>\r\n",
       "<text text-anchor=\"middle\" x=\"171\" y=\"-22.8\" font-family=\"Times New Roman,serif\" font-size=\"14.00\">samples = 36</text>\r\n",
       "<text text-anchor=\"middle\" x=\"171\" y=\"-7.8\" font-family=\"Times New Roman,serif\" font-size=\"14.00\">value = [6, 30]</text>\r\n",
       "</g>\r\n",
       "<!-- 1&#45;&gt;3 -->\r\n",
       "<g id=\"edge3\" class=\"edge\"><title>1&#45;&gt;3</title>\r\n",
       "<path fill=\"none\" stroke=\"black\" d=\"M163.847,-88.9485C164.816,-80.6238 165.861,-71.6509 166.844,-63.2027\"/>\r\n",
       "<polygon fill=\"black\" stroke=\"black\" points=\"170.324,-63.5743 168.004,-53.2367 163.371,-62.7649 170.324,-63.5743\"/>\r\n",
       "</g>\r\n",
       "<!-- 5 -->\r\n",
       "<g id=\"node6\" class=\"node\"><title>5</title>\r\n",
       "<polygon fill=\"#a2d1f3\" stroke=\"black\" points=\"356,-53 258,-53 258,-0 356,-0 356,-53\"/>\r\n",
       "<text text-anchor=\"middle\" x=\"307\" y=\"-37.8\" font-family=\"Times New Roman,serif\" font-size=\"14.00\">gini = 0.453</text>\r\n",
       "<text text-anchor=\"middle\" x=\"307\" y=\"-22.8\" font-family=\"Times New Roman,serif\" font-size=\"14.00\">samples = 26</text>\r\n",
       "<text text-anchor=\"middle\" x=\"307\" y=\"-7.8\" font-family=\"Times New Roman,serif\" font-size=\"14.00\">value = [9, 17]</text>\r\n",
       "</g>\r\n",
       "<!-- 4&#45;&gt;5 -->\r\n",
       "<g id=\"edge5\" class=\"edge\"><title>4&#45;&gt;5</title>\r\n",
       "<path fill=\"none\" stroke=\"black\" d=\"M313.502,-88.9485C312.622,-80.6238 311.672,-71.6509 310.778,-63.2027\"/>\r\n",
       "<polygon fill=\"black\" stroke=\"black\" points=\"314.256,-62.8128 309.723,-53.2367 307.295,-63.5495 314.256,-62.8128\"/>\r\n",
       "</g>\r\n",
       "<!-- 6 -->\r\n",
       "<g id=\"node7\" class=\"node\"><title>6</title>\r\n",
       "<polygon fill=\"#4ea7e8\" stroke=\"black\" points=\"472,-53 374,-53 374,-0 472,-0 472,-53\"/>\r\n",
       "<text text-anchor=\"middle\" x=\"423\" y=\"-37.8\" font-family=\"Times New Roman,serif\" font-size=\"14.00\">gini = 0.172</text>\r\n",
       "<text text-anchor=\"middle\" x=\"423\" y=\"-22.8\" font-family=\"Times New Roman,serif\" font-size=\"14.00\">samples = 63</text>\r\n",
       "<text text-anchor=\"middle\" x=\"423\" y=\"-7.8\" font-family=\"Times New Roman,serif\" font-size=\"14.00\">value = [6, 57]</text>\r\n",
       "</g>\r\n",
       "<!-- 4&#45;&gt;6 -->\r\n",
       "<g id=\"edge6\" class=\"edge\"><title>4&#45;&gt;6</title>\r\n",
       "<path fill=\"none\" stroke=\"black\" d=\"M354.074,-88.9485C364.54,-79.6175 375.92,-69.4722 386.361,-60.1641\"/>\r\n",
       "<polygon fill=\"black\" stroke=\"black\" points=\"388.996,-62.5038 394.131,-53.2367 384.338,-57.2788 388.996,-62.5038\"/>\r\n",
       "</g>\r\n",
       "</g>\r\n",
       "</svg>\r\n"
      ],
      "text/plain": [
       "<graphviz.files.Source at 0x1a077429400>"
      ]
     },
     "execution_count": 165,
     "metadata": {},
     "output_type": "execute_result"
    }
   ],
   "source": [
    "import graphviz\n",
    "# DOT data\n",
    "dot_data = tree.export_graphviz(dtree, out_file=None, \n",
    "                                feature_names=X_train.columns,  \n",
    "                                filled=True)\n",
    "\n",
    "# Draw graph\n",
    "graph = graphviz.Source(dot_data, format=\"png\") \n",
    "graph"
   ]
  },
  {
   "cell_type": "code",
   "execution_count": 69,
   "metadata": {},
   "outputs": [],
   "source": [
    "fig.savefig(\"DT_plot_classification.png\")"
   ]
  },
  {
   "cell_type": "markdown",
   "metadata": {},
   "source": [
    "**Exercise**: \n",
    "\n",
    "    1. What is the level?\n",
    "    - It is 2 as our max_depth = 2\n",
    "    \n",
    "    2. What is |T| (terminal node)?\n",
    "    - it is 4\n",
    "    \n",
    "    3. How do you make sure that each terminal node has at least 50 observations?\n",
    "    - By adding paramter min_samples_leaf = 50"
   ]
  },
  {
   "cell_type": "markdown",
   "metadata": {},
   "source": [
    "## Advance Visualization (this part is optional)\n",
    "\n",
    "Visualising the Training set results (in 2D of course!). We have to rerun the whole model with 2 explanatory variables"
   ]
  },
  {
   "cell_type": "code",
   "execution_count": 166,
   "metadata": {},
   "outputs": [],
   "source": [
    "X= df[['Age', 'EstimatedSalary']]\n",
    "y= df[['Purchased']]\n",
    "\n",
    "X_train, X_test, y_train, y_test = train_test_split(X, y, test_size = 0.2, random_state = 10)"
   ]
  },
  {
   "cell_type": "code",
   "execution_count": 168,
   "metadata": {},
   "outputs": [],
   "source": [
    "# Feature Scaling: only for visualization purposes we need to scale the features. \n",
    "from sklearn.preprocessing import StandardScaler\n",
    "sc = StandardScaler()\n",
    "X_train = sc.fit_transform(X_train)\n",
    "X_test = sc.transform(X_test) "
   ]
  },
  {
   "cell_type": "markdown",
   "metadata": {},
   "source": [
    "## Fitting Decision Tree classifier to the Training set"
   ]
  },
  {
   "cell_type": "code",
   "execution_count": 169,
   "metadata": {},
   "outputs": [],
   "source": [
    "dtree = DecisionTreeClassifier(max_depth=2)\n",
    "dtree.fit(X_train, y_train.values.reshape(-1,))\n",
    "y_hat_vis = dtree.predict(X_test)"
   ]
  },
  {
   "cell_type": "code",
   "execution_count": 170,
   "metadata": {},
   "outputs": [
    {
     "name": "stderr",
     "output_type": "stream",
     "text": [
      "*c* argument looks like a single numeric RGB or RGBA sequence, which should be avoided as value-mapping will have precedence in case its length matches with *x* & *y*.  Please use the *color* keyword-argument or provide a 2-D array with a single row if you intend to specify the same RGB or RGBA value for all points.\n",
      "*c* argument looks like a single numeric RGB or RGBA sequence, which should be avoided as value-mapping will have precedence in case its length matches with *x* & *y*.  Please use the *color* keyword-argument or provide a 2-D array with a single row if you intend to specify the same RGB or RGBA value for all points.\n"
     ]
    },
    {
     "data": {
      "image/png": "[encoded data removed]",
      "text/plain": [
       "<Figure size 864x576 with 1 Axes>"
      ]
     },
     "metadata": {},
     "output_type": "display_data"
    }
   ],
   "source": [
    "# visualization\n",
    "plt.figure(figsize=(12,8))\n",
    "\n",
    "X_set, y_set = X_train, y_train.iloc[:,0].values\n",
    "X1, X2 = np.meshgrid(np.arange(start = X_set[:, 0].min() - 1, stop = X_set[:, 0].max() + 1, step = 0.01),\n",
    "                     np.arange(start = X_set[:, 1].min() - 1, stop = X_set[:, 1].max() + 1, step = 0.01))\n",
    "\n",
    "\n",
    "from matplotlib.colors import ListedColormap\n",
    "plt.contourf( X1, X2 , dtree.predict(np.array([X1.ravel(), X2.ravel()]).T).reshape(X1.shape),\n",
    "             alpha = 0.75, cmap = ListedColormap(('#FF6347', '#90EE90')))\n",
    "\n",
    "plt.xlim(X1.min(), X1.max())\n",
    "plt.ylim(X2.min(), X2.max())\n",
    "\n",
    "for i, j in enumerate(np.unique(y_set)):\n",
    "    plt.scatter(X_set[y_set == j, 0], X_set[y_set == j, 1],\n",
    "                c = ListedColormap(('red', 'green'))(i), label = j)\n",
    "plt.title('Decision Tree Classification (Training set)')\n",
    "plt.xlabel('Age')\n",
    "plt.ylabel('Estimated Salary')\n",
    "plt.legend()\n",
    "plt.show()"
   ]
  },
  {
   "cell_type": "markdown",
   "metadata": {},
   "source": [
    "**Exercise**\n",
    "\n",
    "If you use max_depth=100, what is the accuracy in the training set?\\\n",
    "- The accuracy in the train set will increase because you are overfitting however in the test set you will underfit "
   ]
  },
  {
   "cell_type": "markdown",
   "metadata": {},
   "source": [
    "# Visualising the Test set results"
   ]
  },
  {
   "cell_type": "code",
   "execution_count": 171,
   "metadata": {},
   "outputs": [
    {
     "name": "stderr",
     "output_type": "stream",
     "text": [
      "*c* argument looks like a single numeric RGB or RGBA sequence, which should be avoided as value-mapping will have precedence in case its length matches with *x* & *y*.  Please use the *color* keyword-argument or provide a 2-D array with a single row if you intend to specify the same RGB or RGBA value for all points.\n",
      "*c* argument looks like a single numeric RGB or RGBA sequence, which should be avoided as value-mapping will have precedence in case its length matches with *x* & *y*.  Please use the *color* keyword-argument or provide a 2-D array with a single row if you intend to specify the same RGB or RGBA value for all points.\n"
     ]
    },
    {
     "data": {
      "image/png": "[encoded data removed]",
      "text/plain": [
       "<Figure size 864x576 with 1 Axes>"
      ]
     },
     "metadata": {},
     "output_type": "display_data"
    }
   ],
   "source": [
    "plt.figure(figsize=(12,8))\n",
    "\n",
    "from matplotlib.colors import ListedColormap\n",
    "X_set, y_set = X_test, y_test.iloc[:,0].values\n",
    "X1, X2 = np.meshgrid(np.arange(start = X_set[:, 0].min() - 1, stop = X_set[:, 0].max() + 1, step = 0.01),\n",
    "                     np.arange(start = X_set[:, 1].min() - 1, stop = X_set[:, 1].max() + 1, step = 0.01))\n",
    "plt.contourf(X1, X2, dtree.predict(np.array([X1.ravel(), X2.ravel()]).T).reshape(X1.shape),\n",
    "             alpha = 0.75, cmap = ListedColormap(('#FF6347', '#90EE90')))\n",
    "plt.xlim(X1.min(), X1.max())\n",
    "plt.ylim(X2.min(), X2.max())\n",
    "for i, j in enumerate(np.unique(y_set)):\n",
    "    plt.scatter(X_set[y_set == j, 0], X_set[y_set == j, 1],\n",
    "                c = ListedColormap(('red', 'green'))(i), label = j)\n",
    "plt.title('SVM Classification (Test set)')\n",
    "plt.xlabel('Age')\n",
    "plt.ylabel('Estimated Salary')\n",
    "plt.legend()\n",
    "plt.show()"
   ]
  },
  {
   "cell_type": "code",
   "execution_count": 97,
   "metadata": {},
   "outputs": [
    {
     "name": "stdout",
     "output_type": "stream",
     "text": [
      "[[47  5]\n",
      " [ 1 27]]\n"
     ]
    }
   ],
   "source": [
    "print(confusion_matrix(y_test, y_hat_vis))"
   ]
  },
  {
   "cell_type": "code",
   "execution_count": null,
   "metadata": {},
   "outputs": [],
   "source": []
  }
 ],
 "metadata": {
  "kernelspec": {
   "display_name": "Python 3",
   "language": "python",
   "name": "python3"
  },
  "language_info": {
   "codemirror_mode": {
    "name": "ipython",
    "version": 3
   },
   "file_extension": ".py",
   "mimetype": "text/x-python",
   "name": "python",
   "nbconvert_exporter": "python",
   "pygments_lexer": "ipython3",
   "version": "3.8.3"
  }
 },
 "nbformat": 4,
 "nbformat_minor": 4
}
