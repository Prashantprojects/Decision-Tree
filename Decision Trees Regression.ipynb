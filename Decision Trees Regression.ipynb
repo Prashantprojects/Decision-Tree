{
 "cells": [
  {
   "cell_type": "markdown",
   "metadata": {},
   "source": [
    "# Decision Trees Regression\n",
    "\n",
    "**Decision Trees**\n",
    "- Highly interpretable, even more than KNN and Regression models\n",
    "- Sequences of diferent quesitons\n",
    "- Used for **Classification** and **Regression** problem statements\n",
    "\n",
    "Decision Tree Definitions\n",
    "- Decision Trees are Machine Learning algorithms that progressively divide data sets into smaller data groups based on descriptive feature, until they reach sets that are small enough to be described by some label\n",
    "- Decision Trees apply a top-down approach to data, trying to group and label observations that are similar\n",
    "- When the target variable consits of real numbers we use **Regression Trees**\n",
    "- When the targes variable is categorical we use **Classification Trees**\n",
    "- Terminology\n",
    "    - Root node: Beginning of a tree\n",
    "    - Spliiting: Splitting the tree\n",
    "    - Branch: the branch that goes to the Decision node\n",
    "    - Leaf node (Terminal node)\n",
    "    - Sub-Tree\n",
    "    - Depth-level (longest path from the Root node to the Leaf node)\n",
    "    - Prunning (removing sub notes from a tree)\n",
    "    \n",
    " **We can check the impurity of our Decision Tree with:**\n",
    "- Regression Trees\n",
    "    - MSE (Mean Squared Error)\n",
    "- Classification Trees\n",
    "    - Error Rate: probability of making a mistake\n",
    "       - (perferably not used in practice as it is sensitive to overfitting the data)\n",
    "    - Entropy: Measures the impurity of randowmness (uncertainty) in the data points\n",
    "    - Gini Index: Measures how often a randomly chosen element would be incorrectly labeled\n",
    "    \n",
    "    \n",
    "    \n",
    " Different decision tree algorithms utilize different impurity metrics\n",
    " \n",
    " **How does the algorithm select X(feature) and s (split)?**\n",
    " - Using Recursive Binary Splitting: This is a numerical procedure where all the values are linked up and different split points are tried and tested using a cost function. The split wiht the lowest cost is selected\n",
    " - Split that leads to the largest possible reduction in RSS (Residual Sum of Squares)\n",
    " - Calculatin with different lines where the MSE is the smallest\n",
    " - The algortihm repeates the process, looking for the best feature and best split in order to split the data further to minimize the RSS within each of the resulting regions\n",
    " - The process continues until a stopping criterion is reached; for instance, continues until no regeion contains more than a fixed number of observation\n",
    " \n",
    "**Classification Trees**\n",
    "- Classification trees are very ssimilar to regression trees, except that it is being used to predict a qualitative response rather than a quantitative one\n",
    "- The prediction of the algorithm at each terminal node will be the category with the majority of datapoints i.e., the most commonly occuring class\n",
    "- Just as in the regression, the recursive binary splitting is used to grow a classification tree. However, instead of RSS we will be using one of the following impurity criteria:\n",
    "    - Classification error rate: Not sufficiently sensitive to node purity (changes in the node probabilities) and in practice either Gini or Cross Entropy is prefered \n",
    "    - Gini index: What features to start with and where to do the split\n",
    "    - Cross entropy\n",
    "    \n",
    "**Pruning a tree*\n",
    "- Decision Tree may produce good predcitions on the training set, but is likely to overfit the data leading to poor test performance (this is the result when no hyperparameter tuning is done as the Decision tree will make every possible split for every variable in the train set. Then applying this model on the test set will result in high Bias.\n",
    "- Smaller tree with fewer splits may lead to lower variance and better interpretation at the cost of a litle bit of bias (This strategy may result in smaller trees, but is too short-sighted)\n",
    "    - A seemingly worhtles split early on in the tree might be followed by a very goot spliy, a split that leads to a large reduction in RSS/impurity index later on\n",
    "- Making all the decisions in the trees and then pruning back to the good trees\n",
    "- A better strategy is to grow a very large tree, and then prune it back in order to obtain a subtree\n",
    "- Cost complexity pruning is used to do this (penalizing by restricting adding more complexity to the model)\n",
    "\n",
    "**Cost complexity pruning also called as weakest link pruning**\n",
    "- Consider a sequence of trees indexed by a nonnegative tuning meter alpha(lambda)\n",
    "- For each value of alpha corresponds a subtree such that the following objective functions is minimized\n",
    "- Can find best alpha with cross validation (CV)\n",
    "- Alpha control the bias variance trade off and is determined by cross validation (CV)\n",
    "\n",
    "**Building a Regression Tree**\n",
    "1. Use recursive binary splitting to grow a large tree (this is a numerical procedure where all the values are lined up and different split points are tried and tested using a cost function. The split with the lowest cost is selected)\n",
    "2. Apply cost complexity to pruning to the large tree in order to obtain a sequence of best subtrees, as a function of alpha (lambda)\n",
    "3. Use K-fold cross-validation (CV) to choose the best alpha (lambda). That is divide the training observations into K fold. For each k=1,..K: \\\n",
    "    a. Repeat steps 1 and 2 on all but the k fold of the training data\\\n",
    "    b. Evaluate the mean squared (MSE) prediction error on the data in the left out k fold, as a function of alpha. Average the results for each value of alpha, and pick alpha minimize the average error.\\\n",
    "4. Return the subtree from step 2 that corresponds to the chosen value of alpha\n",
    "\n",
    "\n",
    "**Avoiding Overfitting**\n",
    "To avoid overfitting, regularization parameters can be added to the model such as:\n",
    "- Maximum depth of the tree: Maximum splits of a tree\n",
    "- Minimum population at a node: Number of observations in the node (the minimum populationa node should consist of). if you don't use a number of observation your model will overfit\n",
    "- Maximan number of decision nodes (amount of nodes you want to have)\n",
    "- Minimum impurity decrease: info gain\n",
    "- Alpha: Complexity parameter\n",
    "\n",
    "Other **hyperparameters are**:\n",
    "- Criterion\n",
    "    - Gini\n",
    "    - Entropy\n",
    "- Splitter\n",
    "    - Best\n",
    "    - Random\n",
    "- Class weight\n",
    " - Balanced\n",
    " - None \n",
    " \n",
    " Imbalanced data typically refers to a classification problem where the number of observations per class is not equally distributed; often you will have a large amount of data/oberservations for one class(referd as the majority class which is overrepresented) and the smalles as the minority class\n",
    " \n",
    " **Decision Trees Pros and Cons**\n",
    "- Pros\n",
    "    - Easy to interpret and visualize\n",
    "    - Can easily handle categorical data without the need to create dummy variables\n",
    "    - Can easily capture Non-linear patters\n",
    "    - Can handle data in its raw form (no preprocessing and Scaling needed as it does not use euclidience distance)\n",
    "    - Has no assumptions about the distribution because of the non-parametric nature of the algorithm\n",
    "- Cons\n",
    "    - Poor level of predictive accuracy (This can be reduced by bagging and boosting algorithms)\n",
    "    - Sensitive to noisy data. It can overfit noisy data. Small variations in data can result in different decision trees\n",
    "       \n",
    "**Overfitting, Underfitting and Fitting**\n",
    "\n",
    "    - Overfitting = Bias low, Variance high\n",
    "    - Underfiting = Bias high, Variance High\n",
    "    - Fitting = Bias low, Variance low"
   ]
  },
  {
   "cell_type": "code",
   "execution_count": 1,
   "metadata": {},
   "outputs": [],
   "source": [
    "# Import libraries\n",
    "import numpy as np\n",
    "import pandas as pd\n",
    "import matplotlib.pyplot as plt\n",
    "import seaborn as sns\n",
    "sns.set()  #if you want to use seaborn themes with matplotlib functions\n",
    "import warnings\n",
    "warnings.filterwarnings('ignore')"
   ]
  },
  {
   "cell_type": "code",
   "execution_count": 2,
   "metadata": {},
   "outputs": [],
   "source": [
    "# we use this rand_state = 1000 to keep getting the same data \n",
    "rand_state= 1000"
   ]
  },
  {
   "cell_type": "markdown",
   "metadata": {},
   "source": [
    "#### Read in the data"
   ]
  },
  {
   "cell_type": "code",
   "execution_count": 3,
   "metadata": {},
   "outputs": [],
   "source": [
    "# read in data\n",
    "df = pd.read_csv(\"wage.csv\")"
   ]
  },
  {
   "cell_type": "code",
   "execution_count": 4,
   "metadata": {},
   "outputs": [
    {
     "data": {
      "text/html": [
       "<div>\n",
       "<style scoped>\n",
       "    .dataframe tbody tr th:only-of-type {\n",
       "        vertical-align: middle;\n",
       "    }\n",
       "\n",
       "    .dataframe tbody tr th {\n",
       "        vertical-align: top;\n",
       "    }\n",
       "\n",
       "    .dataframe thead th {\n",
       "        text-align: right;\n",
       "    }\n",
       "</style>\n",
       "<table border=\"1\" class=\"dataframe\">\n",
       "  <thead>\n",
       "    <tr style=\"text-align: right;\">\n",
       "      <th></th>\n",
       "      <th>wage</th>\n",
       "      <th>hours</th>\n",
       "      <th>IQ</th>\n",
       "      <th>educ</th>\n",
       "      <th>exper</th>\n",
       "      <th>tenure</th>\n",
       "      <th>age</th>\n",
       "      <th>married</th>\n",
       "      <th>black</th>\n",
       "      <th>meduc</th>\n",
       "      <th>feduc</th>\n",
       "    </tr>\n",
       "  </thead>\n",
       "  <tbody>\n",
       "    <tr>\n",
       "      <th>0</th>\n",
       "      <td>769000.0</td>\n",
       "      <td>40</td>\n",
       "      <td>93</td>\n",
       "      <td>12</td>\n",
       "      <td>11</td>\n",
       "      <td>2</td>\n",
       "      <td>31</td>\n",
       "      <td>1</td>\n",
       "      <td>0</td>\n",
       "      <td>8.0</td>\n",
       "      <td>8.0</td>\n",
       "    </tr>\n",
       "    <tr>\n",
       "      <th>1</th>\n",
       "      <td>808000.0</td>\n",
       "      <td>50</td>\n",
       "      <td>119</td>\n",
       "      <td>18</td>\n",
       "      <td>11</td>\n",
       "      <td>16</td>\n",
       "      <td>37</td>\n",
       "      <td>1</td>\n",
       "      <td>0</td>\n",
       "      <td>14.0</td>\n",
       "      <td>14.0</td>\n",
       "    </tr>\n",
       "    <tr>\n",
       "      <th>2</th>\n",
       "      <td>825000.0</td>\n",
       "      <td>40</td>\n",
       "      <td>108</td>\n",
       "      <td>14</td>\n",
       "      <td>11</td>\n",
       "      <td>9</td>\n",
       "      <td>33</td>\n",
       "      <td>1</td>\n",
       "      <td>0</td>\n",
       "      <td>14.0</td>\n",
       "      <td>14.0</td>\n",
       "    </tr>\n",
       "    <tr>\n",
       "      <th>3</th>\n",
       "      <td>650000.0</td>\n",
       "      <td>40</td>\n",
       "      <td>96</td>\n",
       "      <td>12</td>\n",
       "      <td>13</td>\n",
       "      <td>7</td>\n",
       "      <td>32</td>\n",
       "      <td>1</td>\n",
       "      <td>0</td>\n",
       "      <td>12.0</td>\n",
       "      <td>12.0</td>\n",
       "    </tr>\n",
       "    <tr>\n",
       "      <th>4</th>\n",
       "      <td>562000.0</td>\n",
       "      <td>40</td>\n",
       "      <td>74</td>\n",
       "      <td>11</td>\n",
       "      <td>14</td>\n",
       "      <td>5</td>\n",
       "      <td>34</td>\n",
       "      <td>1</td>\n",
       "      <td>0</td>\n",
       "      <td>6.0</td>\n",
       "      <td>11.0</td>\n",
       "    </tr>\n",
       "  </tbody>\n",
       "</table>\n",
       "</div>"
      ],
      "text/plain": [
       "       wage  hours   IQ  educ  exper  tenure  age  married  black  meduc  \\\n",
       "0  769000.0     40   93    12     11       2   31        1      0    8.0   \n",
       "1  808000.0     50  119    18     11      16   37        1      0   14.0   \n",
       "2  825000.0     40  108    14     11       9   33        1      0   14.0   \n",
       "3  650000.0     40   96    12     13       7   32        1      0   12.0   \n",
       "4  562000.0     40   74    11     14       5   34        1      0    6.0   \n",
       "\n",
       "   feduc  \n",
       "0    8.0  \n",
       "1   14.0  \n",
       "2   14.0  \n",
       "3   12.0  \n",
       "4   11.0  "
      ]
     },
     "execution_count": 4,
     "metadata": {},
     "output_type": "execute_result"
    }
   ],
   "source": [
    "# Print first 5 rows of the dataset\n",
    "df.head()"
   ]
  },
  {
   "cell_type": "code",
   "execution_count": 5,
   "metadata": {},
   "outputs": [
    {
     "name": "stdout",
     "output_type": "stream",
     "text": [
      "<class 'pandas.core.frame.DataFrame'>\n",
      "RangeIndex: 935 entries, 0 to 934\n",
      "Data columns (total 11 columns):\n",
      " #   Column   Non-Null Count  Dtype  \n",
      "---  ------   --------------  -----  \n",
      " 0   wage     935 non-null    float64\n",
      " 1   hours    935 non-null    int64  \n",
      " 2   IQ       935 non-null    int64  \n",
      " 3   educ     935 non-null    int64  \n",
      " 4   exper    935 non-null    int64  \n",
      " 5   tenure   935 non-null    int64  \n",
      " 6   age      935 non-null    int64  \n",
      " 7   married  935 non-null    int64  \n",
      " 8   black    935 non-null    int64  \n",
      " 9   meduc    857 non-null    float64\n",
      " 10  feduc    741 non-null    float64\n",
      "dtypes: float64(3), int64(8)\n",
      "memory usage: 80.5 KB\n"
     ]
    }
   ],
   "source": [
    "# Check for null values and what type our columns are\n",
    "df.info()"
   ]
  },
  {
   "cell_type": "markdown",
   "metadata": {},
   "source": [
    "# Data preprocessing"
   ]
  },
  {
   "cell_type": "code",
   "execution_count": 6,
   "metadata": {},
   "outputs": [
    {
     "data": {
      "text/plain": [
       "wage         0\n",
       "hours        0\n",
       "IQ           0\n",
       "educ         0\n",
       "exper        0\n",
       "tenure       0\n",
       "age          0\n",
       "married      0\n",
       "black        0\n",
       "meduc       78\n",
       "feduc      194\n",
       "dtype: int64"
      ]
     },
     "execution_count": 6,
     "metadata": {},
     "output_type": "execute_result"
    }
   ],
   "source": [
    "df.isnull().sum()"
   ]
  },
  {
   "cell_type": "code",
   "execution_count": 11,
   "metadata": {},
   "outputs": [],
   "source": [
    "df.drop('feduc', axis=1, inplace=True)"
   ]
  },
  {
   "cell_type": "code",
   "execution_count": 12,
   "metadata": {},
   "outputs": [
    {
     "name": "stdout",
     "output_type": "stream",
     "text": [
      "<class 'pandas.core.frame.DataFrame'>\n",
      "RangeIndex: 935 entries, 0 to 934\n",
      "Data columns (total 10 columns):\n",
      " #   Column   Non-Null Count  Dtype  \n",
      "---  ------   --------------  -----  \n",
      " 0   wage     935 non-null    float64\n",
      " 1   hours    935 non-null    int64  \n",
      " 2   IQ       935 non-null    int64  \n",
      " 3   educ     935 non-null    int64  \n",
      " 4   exper    935 non-null    int64  \n",
      " 5   tenure   935 non-null    int64  \n",
      " 6   age      935 non-null    int64  \n",
      " 7   married  935 non-null    int64  \n",
      " 8   black    935 non-null    int64  \n",
      " 9   meduc    935 non-null    float64\n",
      "dtypes: float64(2), int64(8)\n",
      "memory usage: 73.2 KB\n"
     ]
    }
   ],
   "source": [
    "df['meduc'].fillna(df['meduc'].median(),axis=0, inplace=True )\n",
    "df.info()"
   ]
  },
  {
   "cell_type": "code",
   "execution_count": 19,
   "metadata": {},
   "outputs": [
    {
     "data": {
      "text/plain": [
       "Index(['wage', 'hours', 'IQ', 'educ', 'exper', 'tenure', 'age', 'married',\n",
       "       'black', 'meduc'],\n",
       "      dtype='object')"
      ]
     },
     "execution_count": 19,
     "metadata": {},
     "output_type": "execute_result"
    }
   ],
   "source": [
    "df.columns"
   ]
  },
  {
   "cell_type": "markdown",
   "metadata": {},
   "source": [
    "# Defining the variables and splitting the data"
   ]
  },
  {
   "cell_type": "code",
   "execution_count": 21,
   "metadata": {},
   "outputs": [],
   "source": [
    "y = df['wage'] # dependent feature\n",
    "X = df.drop('wage', axis=1) # becareful inplace= False, independent features\n",
    "\n",
    "from sklearn.model_selection import train_test_split\n",
    "X_train, X_test, y_train, y_test = train_test_split(X, y, test_size=0.2, random_state=rand_state)\n"
   ]
  },
  {
   "cell_type": "code",
   "execution_count": 22,
   "metadata": {},
   "outputs": [
    {
     "data": {
      "text/html": [
       "<div>\n",
       "<style scoped>\n",
       "    .dataframe tbody tr th:only-of-type {\n",
       "        vertical-align: middle;\n",
       "    }\n",
       "\n",
       "    .dataframe tbody tr th {\n",
       "        vertical-align: top;\n",
       "    }\n",
       "\n",
       "    .dataframe thead th {\n",
       "        text-align: right;\n",
       "    }\n",
       "</style>\n",
       "<table border=\"1\" class=\"dataframe\">\n",
       "  <thead>\n",
       "    <tr style=\"text-align: right;\">\n",
       "      <th></th>\n",
       "      <th>hours</th>\n",
       "      <th>IQ</th>\n",
       "      <th>educ</th>\n",
       "      <th>exper</th>\n",
       "      <th>tenure</th>\n",
       "      <th>age</th>\n",
       "      <th>married</th>\n",
       "      <th>black</th>\n",
       "      <th>meduc</th>\n",
       "    </tr>\n",
       "  </thead>\n",
       "  <tbody>\n",
       "    <tr>\n",
       "      <th>932</th>\n",
       "      <td>45</td>\n",
       "      <td>77</td>\n",
       "      <td>12</td>\n",
       "      <td>12</td>\n",
       "      <td>10</td>\n",
       "      <td>28</td>\n",
       "      <td>1</td>\n",
       "      <td>1</td>\n",
       "      <td>7.0</td>\n",
       "    </tr>\n",
       "    <tr>\n",
       "      <th>82</th>\n",
       "      <td>40</td>\n",
       "      <td>96</td>\n",
       "      <td>11</td>\n",
       "      <td>15</td>\n",
       "      <td>3</td>\n",
       "      <td>37</td>\n",
       "      <td>1</td>\n",
       "      <td>0</td>\n",
       "      <td>8.0</td>\n",
       "    </tr>\n",
       "    <tr>\n",
       "      <th>370</th>\n",
       "      <td>40</td>\n",
       "      <td>123</td>\n",
       "      <td>17</td>\n",
       "      <td>14</td>\n",
       "      <td>7</td>\n",
       "      <td>38</td>\n",
       "      <td>1</td>\n",
       "      <td>0</td>\n",
       "      <td>12.0</td>\n",
       "    </tr>\n",
       "    <tr>\n",
       "      <th>452</th>\n",
       "      <td>40</td>\n",
       "      <td>109</td>\n",
       "      <td>12</td>\n",
       "      <td>14</td>\n",
       "      <td>1</td>\n",
       "      <td>36</td>\n",
       "      <td>1</td>\n",
       "      <td>0</td>\n",
       "      <td>9.0</td>\n",
       "    </tr>\n",
       "    <tr>\n",
       "      <th>132</th>\n",
       "      <td>40</td>\n",
       "      <td>97</td>\n",
       "      <td>12</td>\n",
       "      <td>10</td>\n",
       "      <td>4</td>\n",
       "      <td>31</td>\n",
       "      <td>1</td>\n",
       "      <td>0</td>\n",
       "      <td>12.0</td>\n",
       "    </tr>\n",
       "  </tbody>\n",
       "</table>\n",
       "</div>"
      ],
      "text/plain": [
       "     hours   IQ  educ  exper  tenure  age  married  black  meduc\n",
       "932     45   77    12     12      10   28        1      1    7.0\n",
       "82      40   96    11     15       3   37        1      0    8.0\n",
       "370     40  123    17     14       7   38        1      0   12.0\n",
       "452     40  109    12     14       1   36        1      0    9.0\n",
       "132     40   97    12     10       4   31        1      0   12.0"
      ]
     },
     "execution_count": 22,
     "metadata": {},
     "output_type": "execute_result"
    }
   ],
   "source": [
    "X_train.head()"
   ]
  },
  {
   "cell_type": "markdown",
   "metadata": {},
   "source": [
    "# Scaling the features\n",
    "\n",
    "For tree based models, there is no need to scale the features (No distance metrics is used)"
   ]
  },
  {
   "cell_type": "markdown",
   "metadata": {},
   "source": [
    "# Decision Tree Classification with SKlearn"
   ]
  },
  {
   "cell_type": "code",
   "execution_count": 25,
   "metadata": {},
   "outputs": [],
   "source": [
    "# Import Machine Learning Model DecissionTreeClassifier\n",
    "from sklearn.tree import DecisionTreeRegressor"
   ]
  },
  {
   "cell_type": "code",
   "execution_count": 36,
   "metadata": {},
   "outputs": [
    {
     "data": {
      "text/plain": [
       "DecisionTreeRegressor()"
      ]
     },
     "execution_count": 36,
     "metadata": {},
     "output_type": "execute_result"
    }
   ],
   "source": [
    "# Set the DecisionTreeClassifier in a class\n",
    "Tree_regressor = DecisionTreeRegressor() # alpha=0.6\n",
    "\n",
    "# Fitting our train data\n",
    "Tree_regressor.fit(X_train, y_train)"
   ]
  },
  {
   "cell_type": "code",
   "execution_count": 37,
   "metadata": {},
   "outputs": [],
   "source": [
    "# Predicting the Test set classes\n",
    "y_hat = Tree_regressor.predict(X_test) #y_hat are our predictions"
   ]
  },
  {
   "cell_type": "code",
   "execution_count": 38,
   "metadata": {},
   "outputs": [
    {
     "data": {
      "text/html": [
       "<div>\n",
       "<style scoped>\n",
       "    .dataframe tbody tr th:only-of-type {\n",
       "        vertical-align: middle;\n",
       "    }\n",
       "\n",
       "    .dataframe tbody tr th {\n",
       "        vertical-align: top;\n",
       "    }\n",
       "\n",
       "    .dataframe thead th {\n",
       "        text-align: right;\n",
       "    }\n",
       "</style>\n",
       "<table border=\"1\" class=\"dataframe\">\n",
       "  <thead>\n",
       "    <tr style=\"text-align: right;\">\n",
       "      <th></th>\n",
       "      <th>y_test</th>\n",
       "      <th>y_hat</th>\n",
       "    </tr>\n",
       "  </thead>\n",
       "  <tbody>\n",
       "    <tr>\n",
       "      <th>434</th>\n",
       "      <td>975000.0</td>\n",
       "      <td>660000.0</td>\n",
       "    </tr>\n",
       "    <tr>\n",
       "      <th>238</th>\n",
       "      <td>1730000.0</td>\n",
       "      <td>1384000.0</td>\n",
       "    </tr>\n",
       "    <tr>\n",
       "      <th>531</th>\n",
       "      <td>675000.0</td>\n",
       "      <td>693000.0</td>\n",
       "    </tr>\n",
       "    <tr>\n",
       "      <th>157</th>\n",
       "      <td>1899000.0</td>\n",
       "      <td>635000.0</td>\n",
       "    </tr>\n",
       "    <tr>\n",
       "      <th>601</th>\n",
       "      <td>1500000.0</td>\n",
       "      <td>1442000.0</td>\n",
       "    </tr>\n",
       "  </tbody>\n",
       "</table>\n",
       "</div>"
      ],
      "text/plain": [
       "        y_test      y_hat\n",
       "434   975000.0   660000.0\n",
       "238  1730000.0  1384000.0\n",
       "531   675000.0   693000.0\n",
       "157  1899000.0   635000.0\n",
       "601  1500000.0  1442000.0"
      ]
     },
     "execution_count": 38,
     "metadata": {},
     "output_type": "execute_result"
    }
   ],
   "source": [
    "# put the predictions in the dataframe compared with test dataset\n",
    "predictions = pd.DataFrame({ 'y_test':y_test,'y_hat':y_hat})\n",
    "predictions.head()"
   ]
  },
  {
   "cell_type": "markdown",
   "metadata": {},
   "source": [
    "# Evaluating the model on test dataset¶"
   ]
  },
  {
   "cell_type": "code",
   "execution_count": 39,
   "metadata": {},
   "outputs": [
    {
     "data": {
      "image/png": "[encoded data removed]",
      "text/plain": [
       "<Figure size 576x432 with 1 Axes>"
      ]
     },
     "metadata": {},
     "output_type": "display_data"
    }
   ],
   "source": [
    "plt.figure(figsize=(8,6))\n",
    "sns.scatterplot(x=y_test, y=y_hat) \n",
    "sns.lineplot(y_test, y_test)\n",
    "\n",
    "plt.xlabel('Actual wage', fontsize=14)\n",
    "plt.ylabel('Prediced  wage', fontsize=14)\n",
    "plt.title('Actual vs Predicted  wage (test set)', fontsize=17)\n",
    "plt.show()"
   ]
  },
  {
   "cell_type": "code",
   "execution_count": 30,
   "metadata": {},
   "outputs": [
    {
     "data": {
      "text/plain": [
       "561340.17"
      ]
     },
     "execution_count": 30,
     "metadata": {},
     "output_type": "execute_result"
    }
   ],
   "source": [
    "MSE_test = round(np.mean(np.square(y_test - y_hat)),2)\n",
    "RMSE_test = round(np.sqrt(MSE_test),2)\n",
    "RMSE_test"
   ]
  },
  {
   "cell_type": "markdown",
   "metadata": {},
   "source": [
    "# Pruning the tree using cost complexity pruning method.\n",
    "\n",
    "# Choosing $\\alpha$ with cross validation."
   ]
  },
  {
   "cell_type": "code",
   "execution_count": 40,
   "metadata": {},
   "outputs": [],
   "source": [
    "from sklearn.model_selection import cross_val_score"
   ]
  },
  {
   "cell_type": "code",
   "execution_count": 41,
   "metadata": {},
   "outputs": [],
   "source": [
    "path = DecisionTreeRegressor().cost_complexity_pruning_path(X_train,y_train)\n",
    "ccp_alphas = path.ccp_alphas"
   ]
  },
  {
   "cell_type": "code",
   "execution_count": 44,
   "metadata": {},
   "outputs": [
    {
     "data": {
      "text/html": [
       "<div>\n",
       "<style scoped>\n",
       "    .dataframe tbody tr th:only-of-type {\n",
       "        vertical-align: middle;\n",
       "    }\n",
       "\n",
       "    .dataframe tbody tr th {\n",
       "        vertical-align: top;\n",
       "    }\n",
       "\n",
       "    .dataframe thead th {\n",
       "        text-align: right;\n",
       "    }\n",
       "</style>\n",
       "<table border=\"1\" class=\"dataframe\">\n",
       "  <thead>\n",
       "    <tr style=\"text-align: right;\">\n",
       "      <th></th>\n",
       "      <th>alpha</th>\n",
       "      <th>RMSE_CV</th>\n",
       "    </tr>\n",
       "  </thead>\n",
       "  <tbody>\n",
       "    <tr>\n",
       "      <th>0</th>\n",
       "      <td>0.000000</td>\n",
       "      <td>548544.149867</td>\n",
       "    </tr>\n",
       "    <tr>\n",
       "      <th>1</th>\n",
       "      <td>668.449198</td>\n",
       "      <td>548544.149867</td>\n",
       "    </tr>\n",
       "    <tr>\n",
       "      <th>2</th>\n",
       "      <td>668.449198</td>\n",
       "      <td>548544.149867</td>\n",
       "    </tr>\n",
       "    <tr>\n",
       "      <th>3</th>\n",
       "      <td>668.449198</td>\n",
       "      <td>548544.149867</td>\n",
       "    </tr>\n",
       "    <tr>\n",
       "      <th>4</th>\n",
       "      <td>2673.796791</td>\n",
       "      <td>548544.580352</td>\n",
       "    </tr>\n",
       "    <tr>\n",
       "      <th>5</th>\n",
       "      <td>2673.796791</td>\n",
       "      <td>548544.580352</td>\n",
       "    </tr>\n",
       "    <tr>\n",
       "      <th>6</th>\n",
       "      <td>2673.796791</td>\n",
       "      <td>548544.580352</td>\n",
       "    </tr>\n",
       "    <tr>\n",
       "      <th>7</th>\n",
       "      <td>2673.796791</td>\n",
       "      <td>548544.580352</td>\n",
       "    </tr>\n",
       "    <tr>\n",
       "      <th>8</th>\n",
       "      <td>6016.042781</td>\n",
       "      <td>548552.638179</td>\n",
       "    </tr>\n",
       "    <tr>\n",
       "      <th>9</th>\n",
       "      <td>6016.042781</td>\n",
       "      <td>548552.638179</td>\n",
       "    </tr>\n",
       "    <tr>\n",
       "      <th>10</th>\n",
       "      <td>6016.042781</td>\n",
       "      <td>548552.638179</td>\n",
       "    </tr>\n",
       "    <tr>\n",
       "      <th>11</th>\n",
       "      <td>10695.187166</td>\n",
       "      <td>548548.586190</td>\n",
       "    </tr>\n",
       "    <tr>\n",
       "      <th>12</th>\n",
       "      <td>10695.187166</td>\n",
       "      <td>548548.586190</td>\n",
       "    </tr>\n",
       "    <tr>\n",
       "      <th>13</th>\n",
       "      <td>10695.187166</td>\n",
       "      <td>548548.586190</td>\n",
       "    </tr>\n",
       "    <tr>\n",
       "      <th>14</th>\n",
       "      <td>10695.187166</td>\n",
       "      <td>548548.586190</td>\n",
       "    </tr>\n",
       "    <tr>\n",
       "      <th>15</th>\n",
       "      <td>10695.187166</td>\n",
       "      <td>548548.586190</td>\n",
       "    </tr>\n",
       "    <tr>\n",
       "      <th>16</th>\n",
       "      <td>16711.229947</td>\n",
       "      <td>548547.980849</td>\n",
       "    </tr>\n",
       "    <tr>\n",
       "      <th>17</th>\n",
       "      <td>16711.229947</td>\n",
       "      <td>548547.980849</td>\n",
       "    </tr>\n",
       "    <tr>\n",
       "      <th>18</th>\n",
       "      <td>24064.171123</td>\n",
       "      <td>548547.980849</td>\n",
       "    </tr>\n",
       "    <tr>\n",
       "      <th>19</th>\n",
       "      <td>24064.171123</td>\n",
       "      <td>548547.980849</td>\n",
       "    </tr>\n",
       "  </tbody>\n",
       "</table>\n",
       "</div>"
      ],
      "text/plain": [
       "           alpha        RMSE_CV\n",
       "0       0.000000  548544.149867\n",
       "1     668.449198  548544.149867\n",
       "2     668.449198  548544.149867\n",
       "3     668.449198  548544.149867\n",
       "4    2673.796791  548544.580352\n",
       "5    2673.796791  548544.580352\n",
       "6    2673.796791  548544.580352\n",
       "7    2673.796791  548544.580352\n",
       "8    6016.042781  548552.638179\n",
       "9    6016.042781  548552.638179\n",
       "10   6016.042781  548552.638179\n",
       "11  10695.187166  548548.586190\n",
       "12  10695.187166  548548.586190\n",
       "13  10695.187166  548548.586190\n",
       "14  10695.187166  548548.586190\n",
       "15  10695.187166  548548.586190\n",
       "16  16711.229947  548547.980849\n",
       "17  16711.229947  548547.980849\n",
       "18  24064.171123  548547.980849\n",
       "19  24064.171123  548547.980849"
      ]
     },
     "execution_count": 44,
     "metadata": {},
     "output_type": "execute_result"
    }
   ],
   "source": [
    "# Putting all our alphas with respective accuracies in a dataframe\n",
    "RMSE_CV=[]\n",
    "for alpha in ccp_alphas:\n",
    "    MSE = -cross_val_score(estimator = DecisionTreeRegressor(random_state=1,ccp_alpha=alpha), X = X_train, y = y_train, cv = 5 , scoring=\"neg_mean_squared_error\" )\n",
    "    RMSE_CV.append(np.sqrt(MSE).mean())\n",
    "    \n",
    "output = pd.DataFrame(list(ccp_alphas), columns=['alpha'])\n",
    "output['RMSE_CV']=RMSE_CV\n",
    "\n",
    "output.head(20)"
   ]
  },
  {
   "cell_type": "code",
   "execution_count": 43,
   "metadata": {},
   "outputs": [
    {
     "data": {
      "image/png": "[encoded data removed]",
      "text/plain": [
       "<Figure size 432x288 with 1 Axes>"
      ]
     },
     "metadata": {},
     "output_type": "display_data"
    }
   ],
   "source": [
    "# Putting all our alphas with respective RMSE in a dataframe\n",
    "sns.lineplot(x='alpha', y='RMSE_CV', data=output , color='r', label=\"RMSE_CV vs alpha\")\n",
    "plt.show()"
   ]
  },
  {
   "cell_type": "code",
   "execution_count": 45,
   "metadata": {},
   "outputs": [
    {
     "data": {
      "text/plain": [
       "616"
      ]
     },
     "execution_count": 45,
     "metadata": {},
     "output_type": "execute_result"
    }
   ],
   "source": [
    "# Shows which row in the dataframe has the highest accuracy \n",
    "np.argmin(output['RMSE_CV'])"
   ]
  },
  {
   "cell_type": "code",
   "execution_count": 46,
   "metadata": {},
   "outputs": [
    {
     "data": {
      "text/plain": [
       "alpha      4.678526e+09\n",
       "RMSE_CV    3.967243e+05\n",
       "Name: 616, dtype: float64"
      ]
     },
     "execution_count": 46,
     "metadata": {},
     "output_type": "execute_result"
    }
   ],
   "source": [
    "# Shows the highest accuracy in the dataframe\n",
    "output.iloc[np.argmin(output['RMSE_CV']),]"
   ]
  },
  {
   "cell_type": "code",
   "execution_count": 48,
   "metadata": {},
   "outputs": [
    {
     "data": {
      "text/plain": [
       "4678525791.427368"
      ]
     },
     "execution_count": 48,
     "metadata": {},
     "output_type": "execute_result"
    }
   ],
   "source": [
    "# Gets the optimal alpha from the dataframe and stores it in a variable called optimal_alpha\n",
    "optimal_alpha = output.iloc[np.argmin(output['RMSE_CV']),][0]\n",
    "optimal_alpha"
   ]
  },
  {
   "cell_type": "markdown",
   "metadata": {},
   "source": [
    "**Refit the Decision Tree classifier with optimal alpha**"
   ]
  },
  {
   "cell_type": "code",
   "execution_count": 49,
   "metadata": {},
   "outputs": [],
   "source": [
    "optimal_DT = DecisionTreeRegressor(ccp_alpha=optimal_alpha)\n",
    "optimal_DT.fit(X_train, y_train)\n",
    "y_hat_opt = optimal_DT.predict(X_test)"
   ]
  },
  {
   "cell_type": "code",
   "execution_count": 50,
   "metadata": {},
   "outputs": [
    {
     "data": {
      "text/plain": [
       "399606.99"
      ]
     },
     "execution_count": 50,
     "metadata": {},
     "output_type": "execute_result"
    }
   ],
   "source": [
    "MSE_test = round(np.mean(np.square(y_test - y_hat_opt)),2)\n",
    "RMSE_test = round(np.sqrt(MSE_test),2)\n",
    "RMSE_test"
   ]
  },
  {
   "cell_type": "markdown",
   "metadata": {},
   "source": [
    "## Visualizing the Tree\n",
    "4 different ways of visualizing a tree in Python: https://mljar.com/blog/visualize-decision-tree/"
   ]
  },
  {
   "cell_type": "markdown",
   "metadata": {},
   "source": [
    "Plot DT with **plot_tree** method from sklearn. \n",
    "\n",
    "Let's visualize one simple tree with two features only. \n"
   ]
  },
  {
   "cell_type": "code",
   "execution_count": 51,
   "metadata": {},
   "outputs": [
    {
     "data": {
      "text/plain": [
       "Index(['wage', 'hours', 'IQ', 'educ', 'exper', 'tenure', 'age', 'married',\n",
       "       'black', 'meduc'],\n",
       "      dtype='object')"
      ]
     },
     "execution_count": 51,
     "metadata": {},
     "output_type": "execute_result"
    }
   ],
   "source": [
    "df.columns"
   ]
  },
  {
   "cell_type": "code",
   "execution_count": 52,
   "metadata": {},
   "outputs": [],
   "source": [
    "dtree= DecisionTreeRegressor(ccp_alpha=optimal_alpha)\n",
    "dtree.fit(X_train, y_train)\n",
    "wage_hat = dtree.predict(X_test)"
   ]
  },
  {
   "cell_type": "code",
   "execution_count": 53,
   "metadata": {},
   "outputs": [],
   "source": [
    "from sklearn import tree"
   ]
  },
  {
   "cell_type": "code",
   "execution_count": 55,
   "metadata": {},
   "outputs": [
    {
     "data": {
      "image/svg+xml": [
       "<?xml version=\"1.0\" encoding=\"UTF-8\" standalone=\"no\"?>\r\n",
       "<!DOCTYPE svg PUBLIC \"-//W3C//DTD SVG 1.1//EN\"\r\n",
       " \"http://www.w3.org/Graphics/SVG/1.1/DTD/svg11.dtd\">\r\n",
       "<!-- Generated by graphviz version 2.38.0 (20140413.2041)\r\n",
       " -->\r\n",
       "<!-- Title: Tree Pages: 1 -->\r\n",
       "<svg width=\"431pt\" height=\"269pt\"\r\n",
       " viewBox=\"0.00 0.00 431.00 269.00\" xmlns=\"http://www.w3.org/2000/svg\" xmlns:xlink=\"http://www.w3.org/1999/xlink\">\r\n",
       "<g id=\"graph0\" class=\"graph\" transform=\"scale(1 1) rotate(0) translate(4 265)\">\r\n",
       "<title>Tree</title>\r\n",
       "<polygon fill=\"white\" stroke=\"none\" points=\"-4,4 -4,-265 427,-265 427,4 -4,4\"/>\r\n",
       "<!-- 0 -->\r\n",
       "<g id=\"node1\" class=\"node\"><title>0</title>\r\n",
       "<polygon fill=\"#fdf6f0\" stroke=\"black\" points=\"249,-261 89,-261 89,-193 249,-193 249,-261\"/>\r\n",
       "<text text-anchor=\"middle\" x=\"169\" y=\"-245.8\" font-family=\"Times New Roman,serif\" font-size=\"14.00\">IQ &lt;= 101.5</text>\r\n",
       "<text text-anchor=\"middle\" x=\"169\" y=\"-230.8\" font-family=\"Times New Roman,serif\" font-size=\"14.00\">mse = 165917103942.063</text>\r\n",
       "<text text-anchor=\"middle\" x=\"169\" y=\"-215.8\" font-family=\"Times New Roman,serif\" font-size=\"14.00\">samples = 748</text>\r\n",
       "<text text-anchor=\"middle\" x=\"169\" y=\"-200.8\" font-family=\"Times New Roman,serif\" font-size=\"14.00\">value = 952751.337</text>\r\n",
       "</g>\r\n",
       "<!-- 1 -->\r\n",
       "<g id=\"node2\" class=\"node\"><title>1</title>\r\n",
       "<polygon fill=\"#ffffff\" stroke=\"black\" points=\"160,-149.5 0,-149.5 0,-96.5 160,-96.5 160,-149.5\"/>\r\n",
       "<text text-anchor=\"middle\" x=\"80\" y=\"-134.3\" font-family=\"Times New Roman,serif\" font-size=\"14.00\">mse = 120122773272.499</text>\r\n",
       "<text text-anchor=\"middle\" x=\"80\" y=\"-119.3\" font-family=\"Times New Roman,serif\" font-size=\"14.00\">samples = 371</text>\r\n",
       "<text text-anchor=\"middle\" x=\"80\" y=\"-104.3\" font-family=\"Times New Roman,serif\" font-size=\"14.00\">value = 837091.644</text>\r\n",
       "</g>\r\n",
       "<!-- 0&#45;&gt;1 -->\r\n",
       "<g id=\"edge1\" class=\"edge\"><title>0&#45;&gt;1</title>\r\n",
       "<path fill=\"none\" stroke=\"black\" d=\"M140.104,-192.884C130.124,-181.446 118.945,-168.634 108.96,-157.19\"/>\r\n",
       "<polygon fill=\"black\" stroke=\"black\" points=\"111.479,-154.754 102.267,-149.52 106.205,-159.356 111.479,-154.754\"/>\r\n",
       "<text text-anchor=\"middle\" x=\"100.57\" y=\"-170.762\" font-family=\"Times New Roman,serif\" font-size=\"14.00\">True</text>\r\n",
       "</g>\r\n",
       "<!-- 2 -->\r\n",
       "<g id=\"node3\" class=\"node\"><title>2</title>\r\n",
       "<polygon fill=\"#fbece2\" stroke=\"black\" points=\"338,-157 178,-157 178,-89 338,-89 338,-157\"/>\r\n",
       "<text text-anchor=\"middle\" x=\"258\" y=\"-141.8\" font-family=\"Times New Roman,serif\" font-size=\"14.00\">hours &lt;= 31.0</text>\r\n",
       "<text text-anchor=\"middle\" x=\"258\" y=\"-126.8\" font-family=\"Times New Roman,serif\" font-size=\"14.00\">mse = 184863592539.172</text>\r\n",
       "<text text-anchor=\"middle\" x=\"258\" y=\"-111.8\" font-family=\"Times New Roman,serif\" font-size=\"14.00\">samples = 377</text>\r\n",
       "<text text-anchor=\"middle\" x=\"258\" y=\"-96.8\" font-family=\"Times New Roman,serif\" font-size=\"14.00\">value = 1066570.292</text>\r\n",
       "</g>\r\n",
       "<!-- 0&#45;&gt;2 -->\r\n",
       "<g id=\"edge2\" class=\"edge\"><title>0&#45;&gt;2</title>\r\n",
       "<path fill=\"none\" stroke=\"black\" d=\"M197.896,-192.884C205.668,-183.976 214.167,-174.235 222.263,-164.957\"/>\r\n",
       "<polygon fill=\"black\" stroke=\"black\" points=\"225.007,-167.135 228.945,-157.299 219.733,-162.533 225.007,-167.135\"/>\r\n",
       "<text text-anchor=\"middle\" x=\"230.642\" y=\"-178.542\" font-family=\"Times New Roman,serif\" font-size=\"14.00\">False</text>\r\n",
       "</g>\r\n",
       "<!-- 3 -->\r\n",
       "<g id=\"node4\" class=\"node\"><title>3</title>\r\n",
       "<polygon fill=\"#e58139\" stroke=\"black\" points=\"245,-53 99,-53 99,-0 245,-0 245,-53\"/>\r\n",
       "<text text-anchor=\"middle\" x=\"172\" y=\"-37.8\" font-family=\"Times New Roman,serif\" font-size=\"14.00\">mse = 478864000000.0</text>\r\n",
       "<text text-anchor=\"middle\" x=\"172\" y=\"-22.8\" font-family=\"Times New Roman,serif\" font-size=\"14.00\">samples = 2</text>\r\n",
       "<text text-anchor=\"middle\" x=\"172\" y=\"-7.8\" font-family=\"Times New Roman,serif\" font-size=\"14.00\">value = 2386000.0</text>\r\n",
       "</g>\r\n",
       "<!-- 2&#45;&gt;3 -->\r\n",
       "<g id=\"edge3\" class=\"edge\"><title>2&#45;&gt;3</title>\r\n",
       "<path fill=\"none\" stroke=\"black\" d=\"M227.921,-88.9485C219.596,-79.8005 210.559,-69.8697 202.225,-60.7126\"/>\r\n",
       "<polygon fill=\"black\" stroke=\"black\" points=\"204.741,-58.2769 195.422,-53.2367 199.564,-62.9883 204.741,-58.2769\"/>\r\n",
       "</g>\r\n",
       "<!-- 4 -->\r\n",
       "<g id=\"node5\" class=\"node\"><title>4</title>\r\n",
       "<polygon fill=\"#fbede3\" stroke=\"black\" points=\"423,-53 263,-53 263,-0 423,-0 423,-53\"/>\r\n",
       "<text text-anchor=\"middle\" x=\"343\" y=\"-37.8\" font-family=\"Times New Roman,serif\" font-size=\"14.00\">mse = 173961299555.556</text>\r\n",
       "<text text-anchor=\"middle\" x=\"343\" y=\"-22.8\" font-family=\"Times New Roman,serif\" font-size=\"14.00\">samples = 375</text>\r\n",
       "<text text-anchor=\"middle\" x=\"343\" y=\"-7.8\" font-family=\"Times New Roman,serif\" font-size=\"14.00\">value = 1059533.333</text>\r\n",
       "</g>\r\n",
       "<!-- 2&#45;&gt;4 -->\r\n",
       "<g id=\"edge4\" class=\"edge\"><title>2&#45;&gt;4</title>\r\n",
       "<path fill=\"none\" stroke=\"black\" d=\"M287.729,-88.9485C295.957,-79.8005 304.89,-69.8697 313.126,-60.7126\"/>\r\n",
       "<polygon fill=\"black\" stroke=\"black\" points=\"315.765,-63.0123 319.851,-53.2367 310.561,-58.331 315.765,-63.0123\"/>\r\n",
       "</g>\r\n",
       "</g>\r\n",
       "</svg>\r\n"
      ],
      "text/plain": [
       "<graphviz.files.Source at 0x1bef0341850>"
      ]
     },
     "execution_count": 55,
     "metadata": {},
     "output_type": "execute_result"
    }
   ],
   "source": [
    "import graphviz\n",
    "# DOT data\n",
    "dot_data = tree.export_graphviz(dtree, out_file=None, \n",
    "                                feature_names=X_train.columns,  \n",
    "                                filled=True)\n",
    "\n",
    "# Draw graph\n",
    "graph = graphviz.Source(dot_data, format=\"png\") \n",
    "graph"
   ]
  },
  {
   "cell_type": "code",
   "execution_count": 56,
   "metadata": {},
   "outputs": [
    {
     "data": {
      "image/png": "[encoded data removed]",
      "text/plain": [
       "<Figure size 720x432 with 1 Axes>"
      ]
     },
     "metadata": {},
     "output_type": "display_data"
    }
   ],
   "source": [
    "plt.figure(figsize=(10,6))\n",
    "sns.scatterplot(x='IQ', y='hours', data=df, hue='wage')\n",
    "plt.show()"
   ]
  },
  {
   "cell_type": "code",
   "execution_count": 57,
   "metadata": {},
   "outputs": [],
   "source": [
    "fig.savefig(\"DT_plot_Regression.png\")"
   ]
  },
  {
   "cell_type": "markdown",
   "metadata": {},
   "source": [
    "# Do you want to see the regression line as well?\n",
    "\n",
    "Let's try a tree regression with one feature only (say 'IQ')"
   ]
  },
  {
   "cell_type": "code",
   "execution_count": 60,
   "metadata": {},
   "outputs": [],
   "source": [
    "dtree= DecisionTreeRegressor(max_depth=2)\n",
    "dtree.fit(X_train[['IQ']], y_train)\n",
    "wage_hat = dtree.predict(X_test[['IQ']])"
   ]
  },
  {
   "cell_type": "code",
   "execution_count": 61,
   "metadata": {},
   "outputs": [
    {
     "data": {
      "image/png": "[encoded data removed]",
      "text/plain": [
       "<Figure size 432x288 with 1 Axes>"
      ]
     },
     "metadata": {},
     "output_type": "display_data"
    }
   ],
   "source": [
    "# visualizing the regression line\n",
    "sns.scatterplot(X_test['IQ'], y_test, color='red')\n",
    "sns.lineplot(x=X_test['IQ'], y=wage_hat)\n",
    "plt.show()"
   ]
  },
  {
   "cell_type": "code",
   "execution_count": 62,
   "metadata": {},
   "outputs": [
    {
     "data": {
      "text/plain": [
       "0.09215917687754971"
      ]
     },
     "execution_count": 62,
     "metadata": {},
     "output_type": "execute_result"
    }
   ],
   "source": [
    "dtree.score(np.array(X_test['IQ']).reshape(-1,1),y_test)"
   ]
  }
 ],
 "metadata": {
  "kernelspec": {
   "display_name": "Python 3",
   "language": "python",
   "name": "python3"
  },
  "language_info": {
   "codemirror_mode": {
    "name": "ipython",
    "version": 3
   },
   "file_extension": ".py",
   "mimetype": "text/x-python",
   "name": "python",
   "nbconvert_exporter": "python",
   "pygments_lexer": "ipython3",
   "version": "3.8.3"
  }
 },
 "nbformat": 4,
 "nbformat_minor": 4
}
